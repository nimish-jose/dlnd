{
 "cells": [
  {
   "cell_type": "markdown",
   "metadata": {
    "collapsed": true,
    "deletable": true,
    "editable": true
   },
   "source": [
    "# Image Classification\n",
    "In this project, you'll classify images from the [CIFAR-10 dataset](https://www.cs.toronto.edu/~kriz/cifar.html).  The dataset consists of airplanes, dogs, cats, and other objects. You'll preprocess the images, then train a convolutional neural network on all the samples. The images need to be normalized and the labels need to be one-hot encoded.  You'll get to apply what you learned and build a convolutional, max pooling, dropout, and fully connected layers.  At the end, you'll get to see your neural network's predictions on the sample images.\n",
    "## Get the Data\n",
    "Run the following cell to download the [CIFAR-10 dataset for python](https://www.cs.toronto.edu/~kriz/cifar-10-python.tar.gz)."
   ]
  },
  {
   "cell_type": "code",
   "execution_count": 1,
   "metadata": {
    "collapsed": false,
    "deletable": true,
    "editable": true
   },
   "outputs": [
    {
     "name": "stdout",
     "output_type": "stream",
     "text": [
      "All files found!\n"
     ]
    }
   ],
   "source": [
    "\"\"\"\n",
    "DON'T MODIFY ANYTHING IN THIS CELL THAT IS BELOW THIS LINE\n",
    "\"\"\"\n",
    "from urllib.request import urlretrieve\n",
    "from os.path import isfile, isdir\n",
    "from tqdm import tqdm\n",
    "import problem_unittests as tests\n",
    "import tarfile\n",
    "\n",
    "cifar10_dataset_folder_path = 'cifar-10-batches-py'\n",
    "\n",
    "class DLProgress(tqdm):\n",
    "    last_block = 0\n",
    "\n",
    "    def hook(self, block_num=1, block_size=1, total_size=None):\n",
    "        self.total = total_size\n",
    "        self.update((block_num - self.last_block) * block_size)\n",
    "        self.last_block = block_num\n",
    "\n",
    "if not isfile('cifar-10-python.tar.gz'):\n",
    "    with DLProgress(unit='B', unit_scale=True, miniters=1, desc='CIFAR-10 Dataset') as pbar:\n",
    "        urlretrieve(\n",
    "            'https://www.cs.toronto.edu/~kriz/cifar-10-python.tar.gz',\n",
    "            'cifar-10-python.tar.gz',\n",
    "            pbar.hook)\n",
    "\n",
    "if not isdir(cifar10_dataset_folder_path):\n",
    "    with tarfile.open('cifar-10-python.tar.gz') as tar:\n",
    "        tar.extractall()\n",
    "        tar.close()\n",
    "\n",
    "\n",
    "tests.test_folder_path(cifar10_dataset_folder_path)"
   ]
  },
  {
   "cell_type": "markdown",
   "metadata": {
    "deletable": true,
    "editable": true
   },
   "source": [
    "## Explore the Data\n",
    "The dataset is broken into batches to prevent your machine from running out of memory.  The CIFAR-10 dataset consists of 5 batches, named `data_batch_1`, `data_batch_2`, etc.. Each batch contains the labels and images that are one of the following:\n",
    "* airplane\n",
    "* automobile\n",
    "* bird\n",
    "* cat\n",
    "* deer\n",
    "* dog\n",
    "* frog\n",
    "* horse\n",
    "* ship\n",
    "* truck\n",
    "\n",
    "Understanding a dataset is part of making predictions on the data.  Play around with the code cell below by changing the `batch_id` and `sample_id`. The `batch_id` is the id for a batch (1-5). The `sample_id` is the id for a image and label pair in the batch.\n",
    "\n",
    "Ask yourself \"What are all possible labels?\", \"What is the range of values for the image data?\", \"Are the labels in order or random?\".  Answers to questions like these will help you preprocess the data and end up with better predictions."
   ]
  },
  {
   "cell_type": "code",
   "execution_count": 2,
   "metadata": {
    "collapsed": false,
    "deletable": true,
    "editable": true
   },
   "outputs": [
    {
     "name": "stdout",
     "output_type": "stream",
     "text": [
      "\n",
      "Stats of batch 3:\n",
      "Samples: 10000\n",
      "Label Counts: {0: 994, 1: 1042, 2: 965, 3: 997, 4: 990, 5: 1029, 6: 978, 7: 1015, 8: 961, 9: 1029}\n",
      "First 20 Labels: [8, 5, 0, 6, 9, 2, 8, 3, 6, 2, 7, 4, 6, 9, 0, 0, 7, 3, 7, 2]\n",
      "\n",
      "Example of Image 5000:\n",
      "Image - Min Value: 0 Max Value: 203\n",
      "Image - Shape: (32, 32, 3)\n",
      "Label - Label Id: 6 Name: frog\n"
     ]
    },
    {
     "data": {
      "image/png": "[encoded data removed]",
      "text/plain": [
       "<matplotlib.figure.Figure at 0x7fa46cd14160>"
      ]
     },
     "metadata": {
      "image/png": {
       "height": 250,
       "width": 253
      }
     },
     "output_type": "display_data"
    }
   ],
   "source": [
    "%matplotlib inline\n",
    "%config InlineBackend.figure_format = 'retina'\n",
    "\n",
    "import helper\n",
    "import numpy as np\n",
    "\n",
    "# Explore the dataset\n",
    "batch_id = 3\n",
    "sample_id = 5000\n",
    "helper.display_stats(cifar10_dataset_folder_path, batch_id, sample_id)"
   ]
  },
  {
   "cell_type": "markdown",
   "metadata": {
    "deletable": true,
    "editable": true
   },
   "source": [
    "## Implement Preprocess Functions\n",
    "### Normalize\n",
    "In the cell below, implement the `normalize` function to take in image data, `x`, and return it as a normalized Numpy array. The values should be in the range of 0 to 1, inclusive.  The return object should be the same shape as `x`."
   ]
  },
  {
   "cell_type": "code",
   "execution_count": 3,
   "metadata": {
    "collapsed": false,
    "deletable": true,
    "editable": true
   },
   "outputs": [
    {
     "name": "stdout",
     "output_type": "stream",
     "text": [
      "Tests Passed\n"
     ]
    }
   ],
   "source": [
    "def normalize(x):\n",
    "    \"\"\"\n",
    "    Normalize a list of sample image data in the range of 0 to 1\n",
    "    : x: List of image data.  The image shape is (32, 32, 3)\n",
    "    : return: Numpy array of normalize data\n",
    "    \"\"\"\n",
    "    return (x - x.min())/(x.max() - x.min())\n",
    "\n",
    "\n",
    "\"\"\"\n",
    "DON'T MODIFY ANYTHING IN THIS CELL THAT IS BELOW THIS LINE\n",
    "\"\"\"\n",
    "tests.test_normalize(normalize)"
   ]
  },
  {
   "cell_type": "markdown",
   "metadata": {
    "deletable": true,
    "editable": true
   },
   "source": [
    "### One-hot encode\n",
    "Just like the previous code cell, you'll be implementing a function for preprocessing.  This time, you'll implement the `one_hot_encode` function. The input, `x`, are a list of labels.  Implement the function to return the list of labels as One-Hot encoded Numpy array.  The possible values for labels are 0 to 9. The one-hot encoding function should return the same encoding for each value between each call to `one_hot_encode`.  Make sure to save the map of encodings outside the function.\n",
    "\n",
    "Hint: Don't reinvent the wheel."
   ]
  },
  {
   "cell_type": "code",
   "execution_count": 4,
   "metadata": {
    "collapsed": false,
    "deletable": true,
    "editable": true
   },
   "outputs": [
    {
     "name": "stdout",
     "output_type": "stream",
     "text": [
      "Tests Passed\n"
     ]
    }
   ],
   "source": [
    "from sklearn.preprocessing import OneHotEncoder\n",
    "enc = OneHotEncoder()\n",
    "enc.fit(np.arange(10).reshape(-1,1))\n",
    "\n",
    "def one_hot_encode(x):\n",
    "    \"\"\"\n",
    "    One hot encode a list of sample labels. Return a one-hot encoded vector for each label.\n",
    "    : x: List of sample Labels\n",
    "    : return: Numpy array of one-hot encoded labels\n",
    "    \"\"\"\n",
    "    # TODO: Implement Function\n",
    "    arr = np.array(x)\n",
    "    return enc.transform(arr.reshape(-1,1)).toarray()\n",
    "\n",
    "\"\"\"\n",
    "DON'T MODIFY ANYTHING IN THIS CELL THAT IS BELOW THIS LINE\n",
    "\"\"\"\n",
    "tests.test_one_hot_encode(one_hot_encode)"
   ]
  },
  {
   "cell_type": "markdown",
   "metadata": {
    "deletable": true,
    "editable": true
   },
   "source": [
    "### Randomize Data\n",
    "As you saw from exploring the data above, the order of the samples are randomized.  It doesn't hurt to randomize it again, but you don't need to for this dataset."
   ]
  },
  {
   "cell_type": "markdown",
   "metadata": {
    "deletable": true,
    "editable": true
   },
   "source": [
    "## Preprocess all the data and save it\n",
    "Running the code cell below will preprocess all the CIFAR-10 data and save it to file. The code below also uses 10% of the training data for validation."
   ]
  },
  {
   "cell_type": "code",
   "execution_count": 5,
   "metadata": {
    "collapsed": false,
    "deletable": true,
    "editable": true
   },
   "outputs": [],
   "source": [
    "\"\"\"\n",
    "DON'T MODIFY ANYTHING IN THIS CELL\n",
    "\"\"\"\n",
    "# Preprocess Training, Validation, and Testing Data\n",
    "helper.preprocess_and_save_data(cifar10_dataset_folder_path, normalize, one_hot_encode)"
   ]
  },
  {
   "cell_type": "markdown",
   "metadata": {
    "deletable": true,
    "editable": true
   },
   "source": [
    "# Check Point\n",
    "This is your first checkpoint.  If you ever decide to come back to this notebook or have to restart the notebook, you can start from here.  The preprocessed data has been saved to disk."
   ]
  },
  {
   "cell_type": "code",
   "execution_count": 3,
   "metadata": {
    "collapsed": true,
    "deletable": true,
    "editable": true
   },
   "outputs": [],
   "source": [
    "\"\"\"\n",
    "DON'T MODIFY ANYTHING IN THIS CELL\n",
    "\"\"\"\n",
    "import pickle\n",
    "import problem_unittests as tests\n",
    "import helper\n",
    "\n",
    "# Load the Preprocessed Validation data\n",
    "valid_features, valid_labels = pickle.load(open('preprocess_validation.p', mode='rb'))"
   ]
  },
  {
   "cell_type": "markdown",
   "metadata": {
    "deletable": true,
    "editable": true
   },
   "source": [
    "## Build the network\n",
    "For the neural network, you'll build each layer into a function.  Most of the code you've seen has been outside of functions. To test your code more thoroughly, we require that you put each layer in a function.  This allows us to give you better feedback and test for simple mistakes using our unittests before you submit your project.\n",
    "\n",
    ">**Note:** If you're finding it hard to dedicate enough time for this course each week, we've provided a small shortcut to this part of the project. In the next couple of problems, you'll have the option to use classes from the [TensorFlow Layers](https://www.tensorflow.org/api_docs/python/tf/layers) or [TensorFlow Layers (contrib)](https://www.tensorflow.org/api_guides/python/contrib.layers) packages to build each layer, except the layers you build in the \"Convolutional and Max Pooling Layer\" section.  TF Layers is similar to Keras's and TFLearn's abstraction to layers, so it's easy to pickup.\n",
    "\n",
    ">However, if you would like to get the most out of this course, try to solve all the problems _without_ using anything from the TF Layers packages. You **can** still use classes from other packages that happen to have the same name as ones you find in TF Layers! For example, instead of using the TF Layers version of the `conv2d` class, [tf.layers.conv2d](https://www.tensorflow.org/api_docs/python/tf/layers/conv2d), you would want to use the TF Neural Network version of `conv2d`, [tf.nn.conv2d](https://www.tensorflow.org/api_docs/python/tf/nn/conv2d). \n",
    "\n",
    "Let's begin!\n",
    "\n",
    "### Input\n",
    "The neural network needs to read the image data, one-hot encoded labels, and dropout keep probability. Implement the following functions\n",
    "* Implement `neural_net_image_input`\n",
    " * Return a [TF Placeholder](https://www.tensorflow.org/api_docs/python/tf/placeholder)\n",
    " * Set the shape using `image_shape` with batch size set to `None`.\n",
    " * Name the TensorFlow placeholder \"x\" using the TensorFlow `name` parameter in the [TF Placeholder](https://www.tensorflow.org/api_docs/python/tf/placeholder).\n",
    "* Implement `neural_net_label_input`\n",
    " * Return a [TF Placeholder](https://www.tensorflow.org/api_docs/python/tf/placeholder)\n",
    " * Set the shape using `n_classes` with batch size set to `None`.\n",
    " * Name the TensorFlow placeholder \"y\" using the TensorFlow `name` parameter in the [TF Placeholder](https://www.tensorflow.org/api_docs/python/tf/placeholder).\n",
    "* Implement `neural_net_keep_prob_input`\n",
    " * Return a [TF Placeholder](https://www.tensorflow.org/api_docs/python/tf/placeholder) for dropout keep probability.\n",
    " * Name the TensorFlow placeholder \"keep_prob\" using the TensorFlow `name` parameter in the [TF Placeholder](https://www.tensorflow.org/api_docs/python/tf/placeholder).\n",
    "\n",
    "These names will be used at the end of the project to load your saved model.\n",
    "\n",
    "Note: `None` for shapes in TensorFlow allow for a dynamic size."
   ]
  },
  {
   "cell_type": "code",
   "execution_count": 4,
   "metadata": {
    "collapsed": false,
    "deletable": true,
    "editable": true
   },
   "outputs": [
    {
     "name": "stdout",
     "output_type": "stream",
     "text": [
      "Image Input Tests Passed.\n",
      "Label Input Tests Passed.\n",
      "Keep Prob Tests Passed.\n"
     ]
    }
   ],
   "source": [
    "import tensorflow as tf\n",
    "\n",
    "def neural_net_image_input(image_shape):\n",
    "    \"\"\"\n",
    "    Return a Tensor for a batch of image input\n",
    "    : image_shape: Shape of the images\n",
    "    : return: Tensor for image input.\n",
    "    \"\"\"\n",
    "    # TODO: Implement Function\n",
    "    return tf.placeholder(tf.float32, shape=(None, image_shape[0], image_shape[1], image_shape[2]), name=\"x\")\n",
    "\n",
    "\n",
    "def neural_net_label_input(n_classes):\n",
    "    \"\"\"\n",
    "    Return a Tensor for a batch of label input\n",
    "    : n_classes: Number of classes\n",
    "    : return: Tensor for label input.\n",
    "    \"\"\"\n",
    "    # TODO: Implement Function\n",
    "    return tf.placeholder(tf.float32, shape=(None, n_classes), name=\"y\")\n",
    "\n",
    "\n",
    "def neural_net_keep_prob_input():\n",
    "    \"\"\"\n",
    "    Return a Tensor for keep probability\n",
    "    : return: Tensor for keep probability.\n",
    "    \"\"\"\n",
    "    # TODO: Implement Function\n",
    "    return tf.placeholder(tf.float32, name=\"keep_prob\")\n",
    "\n",
    "\n",
    "\"\"\"\n",
    "DON'T MODIFY ANYTHING IN THIS CELL THAT IS BELOW THIS LINE\n",
    "\"\"\"\n",
    "tf.reset_default_graph()\n",
    "tests.test_nn_image_inputs(neural_net_image_input)\n",
    "tests.test_nn_label_inputs(neural_net_label_input)\n",
    "tests.test_nn_keep_prob_inputs(neural_net_keep_prob_input)"
   ]
  },
  {
   "cell_type": "markdown",
   "metadata": {
    "deletable": true,
    "editable": true
   },
   "source": [
    "### Convolution and Max Pooling Layer\n",
    "Convolution layers have a lot of success with images. For this code cell, you should implement the function `conv2d_maxpool` to apply convolution then max pooling:\n",
    "* Create the weight and bias using `conv_ksize`, `conv_num_outputs` and the shape of `x_tensor`.\n",
    "* Apply a convolution to `x_tensor` using weight and `conv_strides`.\n",
    " * We recommend you use same padding, but you're welcome to use any padding.\n",
    "* Add bias\n",
    "* Add a nonlinear activation to the convolution.\n",
    "* Apply Max Pooling using `pool_ksize` and `pool_strides`.\n",
    " * We recommend you use same padding, but you're welcome to use any padding.\n",
    "\n",
    "**Note:** You **can't** use [TensorFlow Layers](https://www.tensorflow.org/api_docs/python/tf/layers) or [TensorFlow Layers (contrib)](https://www.tensorflow.org/api_guides/python/contrib.layers) for **this** layer, but you can still use TensorFlow's [Neural Network](https://www.tensorflow.org/api_docs/python/tf/nn) package. You may still use the shortcut option for all the **other** layers."
   ]
  },
  {
   "cell_type": "code",
   "execution_count": 36,
   "metadata": {
    "collapsed": false,
    "deletable": true,
    "editable": true
   },
   "outputs": [
    {
     "name": "stdout",
     "output_type": "stream",
     "text": [
      "Tests Passed\n"
     ]
    }
   ],
   "source": [
    "def conv2d_maxpool(x_tensor, conv_num_outputs, conv_ksize, conv_strides, pool_ksize, pool_strides):\n",
    "    \"\"\"\n",
    "    Apply convolution then max pooling to x_tensor\n",
    "    :param x_tensor: TensorFlow Tensor\n",
    "    :param conv_num_outputs: Number of outputs for the convolutional layer\n",
    "    :param conv_ksize: kernal size 2-D Tuple for the convolutional layer\n",
    "    :param conv_strides: Stride 2-D Tuple for convolution\n",
    "    :param pool_ksize: kernal size 2-D Tuple for pool\n",
    "    :param pool_strides: Stride 2-D Tuple for pool\n",
    "    : return: A tensor that represents convolution and max pooling of x_tensor\n",
    "    \"\"\"\n",
    "    # TODO: Implement Function\n",
    "    x_depth = x_tensor.get_shape().as_list()[3]\n",
    "    weight = tf.Variable(tf.truncated_normal([conv_ksize[0], conv_ksize[1], x_depth, conv_num_outputs], stddev=0.1))\n",
    "    bias = tf.Variable(tf.zeros(conv_num_outputs))\n",
    "    \n",
    "    conv_layer = tf.nn.conv2d(x_tensor, weight, strides=[1, conv_strides[0], conv_strides[1], 1], padding='SAME')\n",
    "    conv_layer = tf.nn.bias_add(conv_layer, bias)\n",
    "    conv_layer = tf.nn.relu(conv_layer)\n",
    "    conv_layer = tf.nn.max_pool(conv_layer, ksize=[1, pool_ksize[0], pool_ksize[1], 1], strides=[1, pool_strides[0], pool_strides[1], 1], padding='SAME')\n",
    "    return conv_layer\n",
    "\n",
    "\n",
    "\"\"\"\n",
    "DON'T MODIFY ANYTHING IN THIS CELL THAT IS BELOW THIS LINE\n",
    "\"\"\"\n",
    "tests.test_con_pool(conv2d_maxpool)"
   ]
  },
  {
   "cell_type": "markdown",
   "metadata": {
    "deletable": true,
    "editable": true
   },
   "source": [
    "### Flatten Layer\n",
    "Implement the `flatten` function to change the dimension of `x_tensor` from a 4-D tensor to a 2-D tensor.  The output should be the shape (*Batch Size*, *Flattened Image Size*). Shortcut option: you can use classes from the [TensorFlow Layers](https://www.tensorflow.org/api_docs/python/tf/layers) or [TensorFlow Layers (contrib)](https://www.tensorflow.org/api_guides/python/contrib.layers) packages for this layer. For more of a challenge, only use other TensorFlow packages."
   ]
  },
  {
   "cell_type": "code",
   "execution_count": 18,
   "metadata": {
    "collapsed": false,
    "deletable": true,
    "editable": true
   },
   "outputs": [
    {
     "name": "stdout",
     "output_type": "stream",
     "text": [
      "Tests Passed\n"
     ]
    }
   ],
   "source": [
    "def flatten(x_tensor):\n",
    "    \"\"\"\n",
    "    Flatten x_tensor to (Batch Size, Flattened Image Size)\n",
    "    : x_tensor: A tensor of size (Batch Size, ...), where ... are the image dimensions.\n",
    "    : return: A tensor of size (Batch Size, Flattened Image Size).\n",
    "    \"\"\"\n",
    "    # TODO: Implement Function\n",
    "    shape = x_tensor.get_shape().as_list()\n",
    "    flat_size = tf.cast(shape[1]*shape[2]*shape[3], tf.int32)\n",
    "    return tf.reshape(x_tensor, [-1, flat_size])\n",
    "\n",
    "\n",
    "\"\"\"\n",
    "DON'T MODIFY ANYTHING IN THIS CELL THAT IS BELOW THIS LINE\n",
    "\"\"\"\n",
    "tests.test_flatten(flatten)"
   ]
  },
  {
   "cell_type": "markdown",
   "metadata": {
    "deletable": true,
    "editable": true
   },
   "source": [
    "### Fully-Connected Layer\n",
    "Implement the `fully_conn` function to apply a fully connected layer to `x_tensor` with the shape (*Batch Size*, *num_outputs*). Shortcut option: you can use classes from the [TensorFlow Layers](https://www.tensorflow.org/api_docs/python/tf/layers) or [TensorFlow Layers (contrib)](https://www.tensorflow.org/api_guides/python/contrib.layers) packages for this layer. For more of a challenge, only use other TensorFlow packages."
   ]
  },
  {
   "cell_type": "code",
   "execution_count": 37,
   "metadata": {
    "collapsed": false,
    "deletable": true,
    "editable": true
   },
   "outputs": [
    {
     "name": "stdout",
     "output_type": "stream",
     "text": [
      "Tests Passed\n"
     ]
    }
   ],
   "source": [
    "def fully_conn(x_tensor, num_outputs):\n",
    "    \"\"\"\n",
    "    Apply a fully connected layer to x_tensor using weight and bias\n",
    "    : x_tensor: A 2-D tensor where the first dimension is batch size.\n",
    "    : num_outputs: The number of output that the new tensor should be.\n",
    "    : return: A 2-D tensor where the second dimension is num_outputs.\n",
    "    \"\"\"\n",
    "    # TODO: Implement Function\n",
    "    x_size = x_tensor.get_shape().as_list()[1]\n",
    "    weight = tf.Variable(tf.truncated_normal([x_size, num_outputs], stddev=0.1))\n",
    "    bias = tf.Variable(tf.zeros(num_outputs))\n",
    "    \n",
    "    fc_layer = tf.add(tf.matmul(x_tensor, weight), bias)\n",
    "    fc_layer = tf.nn.relu(fc_layer)\n",
    "    return fc_layer\n",
    "\n",
    "\n",
    "\"\"\"\n",
    "DON'T MODIFY ANYTHING IN THIS CELL THAT IS BELOW THIS LINE\n",
    "\"\"\"\n",
    "tests.test_fully_conn(fully_conn)"
   ]
  },
  {
   "cell_type": "markdown",
   "metadata": {
    "deletable": true,
    "editable": true
   },
   "source": [
    "### Output Layer\n",
    "Implement the `output` function to apply a fully connected layer to `x_tensor` with the shape (*Batch Size*, *num_outputs*). Shortcut option: you can use classes from the [TensorFlow Layers](https://www.tensorflow.org/api_docs/python/tf/layers) or [TensorFlow Layers (contrib)](https://www.tensorflow.org/api_guides/python/contrib.layers) packages for this layer. For more of a challenge, only use other TensorFlow packages.\n",
    "\n",
    "**Note:** Activation, softmax, or cross entropy should **not** be applied to this."
   ]
  },
  {
   "cell_type": "code",
   "execution_count": 38,
   "metadata": {
    "collapsed": false,
    "deletable": true,
    "editable": true
   },
   "outputs": [
    {
     "name": "stdout",
     "output_type": "stream",
     "text": [
      "Tests Passed\n"
     ]
    }
   ],
   "source": [
    "def output(x_tensor, num_outputs):\n",
    "    \"\"\"\n",
    "    Apply a output layer to x_tensor using weight and bias\n",
    "    : x_tensor: A 2-D tensor where the first dimension is batch size.\n",
    "    : num_outputs: The number of output that the new tensor should be.\n",
    "    : return: A 2-D tensor where the second dimension is num_outputs.\n",
    "    \"\"\"\n",
    "    # TODO: Implement Function\n",
    "    x_size = x_tensor.get_shape().as_list()[1]\n",
    "    weight = tf.Variable(tf.truncated_normal([x_size, num_outputs], stddev=0.1))\n",
    "    bias = tf.Variable(tf.zeros(num_outputs))\n",
    "    \n",
    "    return tf.add(tf.matmul(x_tensor, weight), bias)\n",
    "\n",
    "\n",
    "\"\"\"\n",
    "DON'T MODIFY ANYTHING IN THIS CELL THAT IS BELOW THIS LINE\n",
    "\"\"\"\n",
    "tests.test_output(output)"
   ]
  },
  {
   "cell_type": "markdown",
   "metadata": {
    "deletable": true,
    "editable": true
   },
   "source": [
    "### Create Convolutional Model\n",
    "Implement the function `conv_net` to create a convolutional neural network model. The function takes in a batch of images, `x`, and outputs logits.  Use the layers you created above to create this model:\n",
    "\n",
    "* Apply 1, 2, or 3 Convolution and Max Pool layers\n",
    "* Apply a Flatten Layer\n",
    "* Apply 1, 2, or 3 Fully Connected Layers\n",
    "* Apply an Output Layer\n",
    "* Return the output\n",
    "* Apply [TensorFlow's Dropout](https://www.tensorflow.org/api_docs/python/tf/nn/dropout) to one or more layers in the model using `keep_prob`. "
   ]
  },
  {
   "cell_type": "code",
   "execution_count": 47,
   "metadata": {
    "collapsed": false,
    "deletable": true,
    "editable": true
   },
   "outputs": [
    {
     "name": "stdout",
     "output_type": "stream",
     "text": [
      "Neural Network Built!\n"
     ]
    }
   ],
   "source": [
    "def conv_net(x, keep_prob):\n",
    "    \"\"\"\n",
    "    Create a convolutional neural network model\n",
    "    : x: Placeholder tensor that holds image data.\n",
    "    : keep_prob: Placeholder tensor that hold dropout keep probability.\n",
    "    : return: Tensor that represents logits\n",
    "    \"\"\"\n",
    "    # TODO: Apply 1, 2, or 3 Convolution and Max Pool layers\n",
    "    #    Play around with different number of outputs, kernel size and stride\n",
    "    # Function Definition from Above:\n",
    "    #    conv2d_maxpool(x_tensor, conv_num_outputs, conv_ksize, conv_strides, pool_ksize, pool_strides)\n",
    "    x_tensor = x\n",
    "    x_tensor = conv2d_maxpool(x_tensor, 16, (5, 5), (1, 1), (2, 2), (2, 2))\n",
    "    x_tensor = conv2d_maxpool(x_tensor, 32, (3, 3), (1, 1), (2, 2), (2, 2))\n",
    "    x_tensor = conv2d_maxpool(x_tensor, 64, (3, 3), (1, 1), (2, 2), (2, 2))\n",
    "    \n",
    "\n",
    "    # TODO: Apply a Flatten Layer\n",
    "    # Function Definition from Above:\n",
    "    #   flatten(x_tensor)\n",
    "    x_tensor = flatten(x_tensor)\n",
    "    \n",
    "\n",
    "    # TODO: Apply 1, 2, or 3 Fully Connected Layers\n",
    "    #    Play around with different number of outputs\n",
    "    # Function Definition from Above:\n",
    "    #   fully_conn(x_tensor, num_outputs)\n",
    "    x_tensor = fully_conn(x_tensor, 1024)\n",
    "    x_tensor = tf.nn.dropout(x_tensor, keep_prob=keep_prob)\n",
    "    x_tensor = fully_conn(x_tensor, 256)\n",
    "    x_tensor = tf.nn.dropout(x_tensor, keep_prob=keep_prob)\n",
    "    x_tensor = fully_conn(x_tensor, 64)\n",
    "    x_tensor = tf.nn.dropout(x_tensor, keep_prob=keep_prob)\n",
    "    \n",
    "    # TODO: Apply an Output Layer\n",
    "    #    Set this to the number of classes\n",
    "    # Function Definition from Above:\n",
    "    #   output(x_tensor, num_outputs)\n",
    "    x_tensor = output(x_tensor, 10)\n",
    "    \n",
    "    \n",
    "    # TODO: return output\n",
    "    return x_tensor\n",
    "\n",
    "\n",
    "\"\"\"\n",
    "DON'T MODIFY ANYTHING IN THIS CELL THAT IS BELOW THIS LINE\n",
    "\"\"\"\n",
    "\n",
    "##############################\n",
    "## Build the Neural Network ##\n",
    "##############################\n",
    "\n",
    "# Remove previous weights, bias, inputs, etc..\n",
    "tf.reset_default_graph()\n",
    "\n",
    "# Inputs\n",
    "x = neural_net_image_input((32, 32, 3))\n",
    "y = neural_net_label_input(10)\n",
    "keep_prob = neural_net_keep_prob_input()\n",
    "\n",
    "# Model\n",
    "logits = conv_net(x, keep_prob)\n",
    "\n",
    "# Name logits Tensor, so that is can be loaded from disk after training\n",
    "logits = tf.identity(logits, name='logits')\n",
    "\n",
    "# Loss and Optimizer\n",
    "cost = tf.reduce_mean(tf.nn.softmax_cross_entropy_with_logits(logits=logits, labels=y))\n",
    "optimizer = tf.train.AdamOptimizer().minimize(cost)\n",
    "\n",
    "# Accuracy\n",
    "correct_pred = tf.equal(tf.argmax(logits, 1), tf.argmax(y, 1))\n",
    "accuracy = tf.reduce_mean(tf.cast(correct_pred, tf.float32), name='accuracy')\n",
    "\n",
    "tests.test_conv_net(conv_net)"
   ]
  },
  {
   "cell_type": "markdown",
   "metadata": {
    "deletable": true,
    "editable": true
   },
   "source": [
    "## Train the Neural Network\n",
    "### Single Optimization\n",
    "Implement the function `train_neural_network` to do a single optimization.  The optimization should use `optimizer` to optimize in `session` with a `feed_dict` of the following:\n",
    "* `x` for image input\n",
    "* `y` for labels\n",
    "* `keep_prob` for keep probability for dropout\n",
    "\n",
    "This function will be called for each batch, so `tf.global_variables_initializer()` has already been called.\n",
    "\n",
    "Note: Nothing needs to be returned. This function is only optimizing the neural network."
   ]
  },
  {
   "cell_type": "code",
   "execution_count": 40,
   "metadata": {
    "collapsed": false,
    "deletable": true,
    "editable": true
   },
   "outputs": [
    {
     "name": "stdout",
     "output_type": "stream",
     "text": [
      "Tests Passed\n"
     ]
    }
   ],
   "source": [
    "def train_neural_network(session, optimizer, keep_probability, feature_batch, label_batch):\n",
    "    \"\"\"\n",
    "    Optimize the session on a batch of images and labels\n",
    "    : session: Current TensorFlow session\n",
    "    : optimizer: TensorFlow optimizer function\n",
    "    : keep_probability: keep probability\n",
    "    : feature_batch: Batch of Numpy image data\n",
    "    : label_batch: Batch of Numpy label data\n",
    "    \"\"\"\n",
    "    # TODO: Implement Function\n",
    "    session.run(optimizer, feed_dict={x: feature_batch, y: label_batch, keep_prob: keep_probability})\n",
    "\n",
    "\n",
    "\"\"\"\n",
    "DON'T MODIFY ANYTHING IN THIS CELL THAT IS BELOW THIS LINE\n",
    "\"\"\"\n",
    "tests.test_train_nn(train_neural_network)"
   ]
  },
  {
   "cell_type": "markdown",
   "metadata": {
    "deletable": true,
    "editable": true
   },
   "source": [
    "### Show Stats\n",
    "Implement the function `print_stats` to print loss and validation accuracy.  Use the global variables `valid_features` and `valid_labels` to calculate validation accuracy.  Use a keep probability of `1.0` to calculate the loss and validation accuracy."
   ]
  },
  {
   "cell_type": "code",
   "execution_count": 23,
   "metadata": {
    "collapsed": false,
    "deletable": true,
    "editable": true
   },
   "outputs": [],
   "source": [
    "def print_stats(session, feature_batch, label_batch, cost, accuracy):\n",
    "    \"\"\"\n",
    "    Print information about loss and validation accuracy\n",
    "    : session: Current TensorFlow session\n",
    "    : feature_batch: Batch of Numpy image data\n",
    "    : label_batch: Batch of Numpy label data\n",
    "    : cost: TensorFlow cost function\n",
    "    : accuracy: TensorFlow accuracy function\n",
    "    \"\"\"\n",
    "    # TODO: Implement Function\n",
    "    loss = sess.run(cost, feed_dict={x: feature_batch, y: label_batch, keep_prob: 1.})\n",
    "    valid_acc = sess.run(accuracy, feed_dict={x: feature_batch, y: label_batch, keep_prob: 1.})\n",
    "    print('Loss: {:>10.4f} Validation Accuracy: {:.6f}'.format(loss, valid_acc))"
   ]
  },
  {
   "cell_type": "markdown",
   "metadata": {
    "deletable": true,
    "editable": true
   },
   "source": [
    "### Hyperparameters\n",
    "Tune the following parameters:\n",
    "* Set `epochs` to the number of iterations until the network stops learning or start overfitting\n",
    "* Set `batch_size` to the highest number that your machine has memory for.  Most people set them to common sizes of memory:\n",
    " * 64\n",
    " * 128\n",
    " * 256\n",
    " * ...\n",
    "* Set `keep_probability` to the probability of keeping a node using dropout"
   ]
  },
  {
   "cell_type": "code",
   "execution_count": 52,
   "metadata": {
    "collapsed": true,
    "deletable": true,
    "editable": true
   },
   "outputs": [],
   "source": [
    "# TODO: Tune Parameters\n",
    "epochs = 50\n",
    "batch_size = 1024\n",
    "keep_probability = 0.5"
   ]
  },
  {
   "cell_type": "markdown",
   "metadata": {
    "deletable": true,
    "editable": true
   },
   "source": [
    "### Train on a Single CIFAR-10 Batch\n",
    "Instead of training the neural network on all the CIFAR-10 batches of data, let's use a single batch. This should save time while you iterate on the model to get a better accuracy.  Once the final validation accuracy is 50% or greater, run the model on all the data in the next section."
   ]
  },
  {
   "cell_type": "code",
   "execution_count": 53,
   "metadata": {
    "collapsed": false,
    "deletable": true,
    "editable": true
   },
   "outputs": [
    {
     "name": "stdout",
     "output_type": "stream",
     "text": [
      "Checking the Training on a Single Batch...\n",
      "Epoch  1, CIFAR-10 Batch 1:  Loss:     2.2935 Validation Accuracy: 0.146040\n",
      "Epoch  2, CIFAR-10 Batch 1:  Loss:     2.2879 Validation Accuracy: 0.155941\n",
      "Epoch  3, CIFAR-10 Batch 1:  Loss:     2.2526 Validation Accuracy: 0.172030\n",
      "Epoch  4, CIFAR-10 Batch 1:  Loss:     2.1563 Validation Accuracy: 0.193069\n",
      "Epoch  5, CIFAR-10 Batch 1:  Loss:     2.1041 Validation Accuracy: 0.246287\n",
      "Epoch  6, CIFAR-10 Batch 1:  Loss:     2.0022 Validation Accuracy: 0.298267\n",
      "Epoch  7, CIFAR-10 Batch 1:  Loss:     1.9174 Validation Accuracy: 0.329208\n",
      "Epoch  8, CIFAR-10 Batch 1:  Loss:     1.8579 Validation Accuracy: 0.368812\n",
      "Epoch  9, CIFAR-10 Batch 1:  Loss:     1.7953 Validation Accuracy: 0.372525\n",
      "Epoch 10, CIFAR-10 Batch 1:  Loss:     1.7421 Validation Accuracy: 0.372525\n",
      "Epoch 11, CIFAR-10 Batch 1:  Loss:     1.6833 Validation Accuracy: 0.378713\n",
      "Epoch 12, CIFAR-10 Batch 1:  Loss:     1.6292 Validation Accuracy: 0.400990\n",
      "Epoch 13, CIFAR-10 Batch 1:  Loss:     1.5921 Validation Accuracy: 0.426980\n",
      "Epoch 14, CIFAR-10 Batch 1:  Loss:     1.5412 Validation Accuracy: 0.430693\n",
      "Epoch 15, CIFAR-10 Batch 1:  Loss:     1.5278 Validation Accuracy: 0.436881\n",
      "Epoch 16, CIFAR-10 Batch 1:  Loss:     1.4492 Validation Accuracy: 0.465347\n",
      "Epoch 17, CIFAR-10 Batch 1:  Loss:     1.4257 Validation Accuracy: 0.488861\n",
      "Epoch 18, CIFAR-10 Batch 1:  Loss:     1.3765 Validation Accuracy: 0.500000\n",
      "Epoch 19, CIFAR-10 Batch 1:  Loss:     1.3499 Validation Accuracy: 0.509901\n",
      "Epoch 20, CIFAR-10 Batch 1:  Loss:     1.3225 Validation Accuracy: 0.509901\n",
      "Epoch 21, CIFAR-10 Batch 1:  Loss:     1.3130 Validation Accuracy: 0.532178\n",
      "Epoch 22, CIFAR-10 Batch 1:  Loss:     1.2915 Validation Accuracy: 0.529703\n",
      "Epoch 23, CIFAR-10 Batch 1:  Loss:     1.2175 Validation Accuracy: 0.561881\n",
      "Epoch 24, CIFAR-10 Batch 1:  Loss:     1.1719 Validation Accuracy: 0.577970\n",
      "Epoch 25, CIFAR-10 Batch 1:  Loss:     1.1417 Validation Accuracy: 0.586634\n",
      "Epoch 26, CIFAR-10 Batch 1:  Loss:     1.1197 Validation Accuracy: 0.610148\n",
      "Epoch 27, CIFAR-10 Batch 1:  Loss:     1.0727 Validation Accuracy: 0.633663\n",
      "Epoch 28, CIFAR-10 Batch 1:  Loss:     1.0653 Validation Accuracy: 0.621287\n",
      "Epoch 29, CIFAR-10 Batch 1:  Loss:     0.9969 Validation Accuracy: 0.659653\n",
      "Epoch 30, CIFAR-10 Batch 1:  Loss:     0.9830 Validation Accuracy: 0.639851\n",
      "Epoch 31, CIFAR-10 Batch 1:  Loss:     0.9211 Validation Accuracy: 0.683168\n",
      "Epoch 32, CIFAR-10 Batch 1:  Loss:     0.8996 Validation Accuracy: 0.679455\n",
      "Epoch 33, CIFAR-10 Batch 1:  Loss:     0.8737 Validation Accuracy: 0.698020\n",
      "Epoch 34, CIFAR-10 Batch 1:  Loss:     0.8618 Validation Accuracy: 0.693069\n",
      "Epoch 35, CIFAR-10 Batch 1:  Loss:     0.7974 Validation Accuracy: 0.724010\n",
      "Epoch 36, CIFAR-10 Batch 1:  Loss:     0.7661 Validation Accuracy: 0.740099\n",
      "Epoch 37, CIFAR-10 Batch 1:  Loss:     0.7325 Validation Accuracy: 0.751238\n",
      "Epoch 38, CIFAR-10 Batch 1:  Loss:     0.7142 Validation Accuracy: 0.743812\n",
      "Epoch 39, CIFAR-10 Batch 1:  Loss:     0.6601 Validation Accuracy: 0.779703\n",
      "Epoch 40, CIFAR-10 Batch 1:  Loss:     0.6163 Validation Accuracy: 0.793317\n",
      "Epoch 41, CIFAR-10 Batch 1:  Loss:     0.5868 Validation Accuracy: 0.804455\n",
      "Epoch 42, CIFAR-10 Batch 1:  Loss:     0.5527 Validation Accuracy: 0.827970\n",
      "Epoch 43, CIFAR-10 Batch 1:  Loss:     0.5449 Validation Accuracy: 0.815594\n",
      "Epoch 44, CIFAR-10 Batch 1:  Loss:     0.5090 Validation Accuracy: 0.835396\n",
      "Epoch 45, CIFAR-10 Batch 1:  Loss:     0.4939 Validation Accuracy: 0.841584\n",
      "Epoch 46, CIFAR-10 Batch 1:  Loss:     0.4947 Validation Accuracy: 0.835396\n",
      "Epoch 47, CIFAR-10 Batch 1:  Loss:     0.4628 Validation Accuracy: 0.861386\n",
      "Epoch 48, CIFAR-10 Batch 1:  Loss:     0.4283 Validation Accuracy: 0.861386\n",
      "Epoch 49, CIFAR-10 Batch 1:  Loss:     0.3733 Validation Accuracy: 0.878713\n",
      "Epoch 50, CIFAR-10 Batch 1:  Loss:     0.3758 Validation Accuracy: 0.871287\n"
     ]
    }
   ],
   "source": [
    "\"\"\"\n",
    "DON'T MODIFY ANYTHING IN THIS CELL\n",
    "\"\"\"\n",
    "print('Checking the Training on a Single Batch...')\n",
    "with tf.Session() as sess:\n",
    "    # Initializing the variables\n",
    "    sess.run(tf.global_variables_initializer())\n",
    "    \n",
    "    # Training cycle\n",
    "    for epoch in range(epochs):\n",
    "        batch_i = 1\n",
    "        for batch_features, batch_labels in helper.load_preprocess_training_batch(batch_i, batch_size):\n",
    "            train_neural_network(sess, optimizer, keep_probability, batch_features, batch_labels)\n",
    "        print('Epoch {:>2}, CIFAR-10 Batch {}:  '.format(epoch + 1, batch_i), end='')\n",
    "        print_stats(sess, batch_features, batch_labels, cost, accuracy)"
   ]
  },
  {
   "cell_type": "markdown",
   "metadata": {
    "deletable": true,
    "editable": true
   },
   "source": [
    "### Fully Train the Model\n",
    "Now that you got a good accuracy with a single CIFAR-10 batch, try it with all five batches."
   ]
  },
  {
   "cell_type": "code",
   "execution_count": 54,
   "metadata": {
    "collapsed": false,
    "deletable": true,
    "editable": true
   },
   "outputs": [
    {
     "name": "stdout",
     "output_type": "stream",
     "text": [
      "Training...\n",
      "Epoch  1, CIFAR-10 Batch 1:  Loss:     2.2971 Validation Accuracy: 0.110149\n",
      "Epoch  1, CIFAR-10 Batch 2:  Loss:     2.2958 Validation Accuracy: 0.141089\n",
      "Epoch  1, CIFAR-10 Batch 3:  Loss:     2.2815 Validation Accuracy: 0.185644\n",
      "Epoch  1, CIFAR-10 Batch 4:  Loss:     2.2379 Validation Accuracy: 0.183168\n",
      "Epoch  1, CIFAR-10 Batch 5:  Loss:     2.1397 Validation Accuracy: 0.193069\n",
      "Epoch  2, CIFAR-10 Batch 1:  Loss:     2.0195 Validation Accuracy: 0.262376\n",
      "Epoch  2, CIFAR-10 Batch 2:  Loss:     1.9007 Validation Accuracy: 0.330446\n",
      "Epoch  2, CIFAR-10 Batch 3:  Loss:     1.8092 Validation Accuracy: 0.383663\n",
      "Epoch  2, CIFAR-10 Batch 4:  Loss:     1.7092 Validation Accuracy: 0.394802\n",
      "Epoch  2, CIFAR-10 Batch 5:  Loss:     1.6767 Validation Accuracy: 0.392327\n",
      "Epoch  3, CIFAR-10 Batch 1:  Loss:     1.6179 Validation Accuracy: 0.429455\n",
      "Epoch  3, CIFAR-10 Batch 2:  Loss:     1.6359 Validation Accuracy: 0.428218\n",
      "Epoch  3, CIFAR-10 Batch 3:  Loss:     1.5009 Validation Accuracy: 0.462871\n",
      "Epoch  3, CIFAR-10 Batch 4:  Loss:     1.5134 Validation Accuracy: 0.449257\n",
      "Epoch  3, CIFAR-10 Batch 5:  Loss:     1.4775 Validation Accuracy: 0.451733\n",
      "Epoch  4, CIFAR-10 Batch 1:  Loss:     1.4696 Validation Accuracy: 0.465347\n",
      "Epoch  4, CIFAR-10 Batch 2:  Loss:     1.4857 Validation Accuracy: 0.464109\n",
      "Epoch  4, CIFAR-10 Batch 3:  Loss:     1.3556 Validation Accuracy: 0.504950\n",
      "Epoch  4, CIFAR-10 Batch 4:  Loss:     1.3748 Validation Accuracy: 0.502475\n",
      "Epoch  4, CIFAR-10 Batch 5:  Loss:     1.3658 Validation Accuracy: 0.483911\n",
      "Epoch  5, CIFAR-10 Batch 1:  Loss:     1.3671 Validation Accuracy: 0.501238\n",
      "Epoch  5, CIFAR-10 Batch 2:  Loss:     1.3626 Validation Accuracy: 0.504950\n",
      "Epoch  5, CIFAR-10 Batch 3:  Loss:     1.2450 Validation Accuracy: 0.544554\n",
      "Epoch  5, CIFAR-10 Batch 4:  Loss:     1.2735 Validation Accuracy: 0.544554\n",
      "Epoch  5, CIFAR-10 Batch 5:  Loss:     1.2544 Validation Accuracy: 0.537129\n",
      "Epoch  6, CIFAR-10 Batch 1:  Loss:     1.2589 Validation Accuracy: 0.544554\n",
      "Epoch  6, CIFAR-10 Batch 2:  Loss:     1.2721 Validation Accuracy: 0.548267\n",
      "Epoch  6, CIFAR-10 Batch 3:  Loss:     1.1595 Validation Accuracy: 0.581683\n",
      "Epoch  6, CIFAR-10 Batch 4:  Loss:     1.2045 Validation Accuracy: 0.581683\n",
      "Epoch  6, CIFAR-10 Batch 5:  Loss:     1.1887 Validation Accuracy: 0.553218\n",
      "Epoch  7, CIFAR-10 Batch 1:  Loss:     1.1789 Validation Accuracy: 0.579208\n",
      "Epoch  7, CIFAR-10 Batch 2:  Loss:     1.2032 Validation Accuracy: 0.561881\n",
      "Epoch  7, CIFAR-10 Batch 3:  Loss:     1.0896 Validation Accuracy: 0.599010\n",
      "Epoch  7, CIFAR-10 Batch 4:  Loss:     1.1574 Validation Accuracy: 0.597772\n",
      "Epoch  7, CIFAR-10 Batch 5:  Loss:     1.1243 Validation Accuracy: 0.582921\n",
      "Epoch  8, CIFAR-10 Batch 1:  Loss:     1.1270 Validation Accuracy: 0.608911\n",
      "Epoch  8, CIFAR-10 Batch 2:  Loss:     1.1369 Validation Accuracy: 0.601485\n",
      "Epoch  8, CIFAR-10 Batch 3:  Loss:     1.0717 Validation Accuracy: 0.618812\n",
      "Epoch  8, CIFAR-10 Batch 4:  Loss:     1.1075 Validation Accuracy: 0.629951\n",
      "Epoch  8, CIFAR-10 Batch 5:  Loss:     1.0505 Validation Accuracy: 0.622525\n",
      "Epoch  9, CIFAR-10 Batch 1:  Loss:     1.0879 Validation Accuracy: 0.622525\n",
      "Epoch  9, CIFAR-10 Batch 2:  Loss:     1.0781 Validation Accuracy: 0.608911\n",
      "Epoch  9, CIFAR-10 Batch 3:  Loss:     0.9914 Validation Accuracy: 0.647277\n",
      "Epoch  9, CIFAR-10 Batch 4:  Loss:     1.0435 Validation Accuracy: 0.631188\n",
      "Epoch  9, CIFAR-10 Batch 5:  Loss:     0.9970 Validation Accuracy: 0.658416\n",
      "Epoch 10, CIFAR-10 Batch 1:  Loss:     1.0626 Validation Accuracy: 0.612624\n",
      "Epoch 10, CIFAR-10 Batch 2:  Loss:     1.0531 Validation Accuracy: 0.608911\n",
      "Epoch 10, CIFAR-10 Batch 3:  Loss:     0.9730 Validation Accuracy: 0.641089\n",
      "Epoch 10, CIFAR-10 Batch 4:  Loss:     0.9902 Validation Accuracy: 0.641089\n",
      "Epoch 10, CIFAR-10 Batch 5:  Loss:     0.9509 Validation Accuracy: 0.670792\n",
      "Epoch 11, CIFAR-10 Batch 1:  Loss:     0.9757 Validation Accuracy: 0.672030\n",
      "Epoch 11, CIFAR-10 Batch 2:  Loss:     0.9827 Validation Accuracy: 0.644802\n",
      "Epoch 11, CIFAR-10 Batch 3:  Loss:     0.9696 Validation Accuracy: 0.643564\n",
      "Epoch 11, CIFAR-10 Batch 4:  Loss:     0.9604 Validation Accuracy: 0.654703\n",
      "Epoch 11, CIFAR-10 Batch 5:  Loss:     0.9444 Validation Accuracy: 0.673267\n",
      "Epoch 12, CIFAR-10 Batch 1:  Loss:     0.9537 Validation Accuracy: 0.672030\n",
      "Epoch 12, CIFAR-10 Batch 2:  Loss:     0.9288 Validation Accuracy: 0.662129\n",
      "Epoch 12, CIFAR-10 Batch 3:  Loss:     0.9138 Validation Accuracy: 0.678218\n",
      "Epoch 12, CIFAR-10 Batch 4:  Loss:     0.9176 Validation Accuracy: 0.673267\n",
      "Epoch 12, CIFAR-10 Batch 5:  Loss:     0.8890 Validation Accuracy: 0.680693\n",
      "Epoch 13, CIFAR-10 Batch 1:  Loss:     0.8967 Validation Accuracy: 0.684406\n",
      "Epoch 13, CIFAR-10 Batch 2:  Loss:     0.9178 Validation Accuracy: 0.657178\n",
      "Epoch 13, CIFAR-10 Batch 3:  Loss:     0.8752 Validation Accuracy: 0.690594\n",
      "Epoch 13, CIFAR-10 Batch 4:  Loss:     0.8589 Validation Accuracy: 0.689356\n",
      "Epoch 13, CIFAR-10 Batch 5:  Loss:     0.8365 Validation Accuracy: 0.704208\n",
      "Epoch 14, CIFAR-10 Batch 1:  Loss:     0.8487 Validation Accuracy: 0.707921\n",
      "Epoch 14, CIFAR-10 Batch 2:  Loss:     0.8642 Validation Accuracy: 0.685644\n",
      "Epoch 14, CIFAR-10 Batch 3:  Loss:     0.8171 Validation Accuracy: 0.707921\n",
      "Epoch 14, CIFAR-10 Batch 4:  Loss:     0.8215 Validation Accuracy: 0.712871\n",
      "Epoch 14, CIFAR-10 Batch 5:  Loss:     0.8187 Validation Accuracy: 0.698020\n",
      "Epoch 15, CIFAR-10 Batch 1:  Loss:     0.8210 Validation Accuracy: 0.711634\n",
      "Epoch 15, CIFAR-10 Batch 2:  Loss:     0.8228 Validation Accuracy: 0.695545\n",
      "Epoch 15, CIFAR-10 Batch 3:  Loss:     0.7836 Validation Accuracy: 0.730198\n",
      "Epoch 15, CIFAR-10 Batch 4:  Loss:     0.7714 Validation Accuracy: 0.730198\n",
      "Epoch 15, CIFAR-10 Batch 5:  Loss:     0.7860 Validation Accuracy: 0.709158\n",
      "Epoch 16, CIFAR-10 Batch 1:  Loss:     0.8062 Validation Accuracy: 0.717822\n",
      "Epoch 16, CIFAR-10 Batch 2:  Loss:     0.7829 Validation Accuracy: 0.719059\n",
      "Epoch 16, CIFAR-10 Batch 3:  Loss:     0.7558 Validation Accuracy: 0.727723\n",
      "Epoch 16, CIFAR-10 Batch 4:  Loss:     0.7121 Validation Accuracy: 0.738861\n",
      "Epoch 16, CIFAR-10 Batch 5:  Loss:     0.7491 Validation Accuracy: 0.736386\n",
      "Epoch 17, CIFAR-10 Batch 1:  Loss:     0.7880 Validation Accuracy: 0.717822\n",
      "Epoch 17, CIFAR-10 Batch 2:  Loss:     0.7366 Validation Accuracy: 0.752475\n",
      "Epoch 17, CIFAR-10 Batch 3:  Loss:     0.6961 Validation Accuracy: 0.750000\n",
      "Epoch 17, CIFAR-10 Batch 4:  Loss:     0.6967 Validation Accuracy: 0.753713\n",
      "Epoch 17, CIFAR-10 Batch 5:  Loss:     0.7393 Validation Accuracy: 0.757426\n",
      "Epoch 18, CIFAR-10 Batch 1:  Loss:     0.7772 Validation Accuracy: 0.730198\n",
      "Epoch 18, CIFAR-10 Batch 2:  Loss:     0.7071 Validation Accuracy: 0.756188\n",
      "Epoch 18, CIFAR-10 Batch 3:  Loss:     0.6703 Validation Accuracy: 0.754951\n",
      "Epoch 18, CIFAR-10 Batch 4:  Loss:     0.6678 Validation Accuracy: 0.763614\n",
      "Epoch 18, CIFAR-10 Batch 5:  Loss:     0.6680 Validation Accuracy: 0.784653\n",
      "Epoch 19, CIFAR-10 Batch 1:  Loss:     0.6895 Validation Accuracy: 0.759901\n",
      "Epoch 19, CIFAR-10 Batch 2:  Loss:     0.6648 Validation Accuracy: 0.774752\n",
      "Epoch 19, CIFAR-10 Batch 3:  Loss:     0.6257 Validation Accuracy: 0.777228\n",
      "Epoch 19, CIFAR-10 Batch 4:  Loss:     0.6323 Validation Accuracy: 0.779703\n",
      "Epoch 19, CIFAR-10 Batch 5:  Loss:     0.6460 Validation Accuracy: 0.798267\n",
      "Epoch 20, CIFAR-10 Batch 1:  Loss:     0.6527 Validation Accuracy: 0.779703\n",
      "Epoch 20, CIFAR-10 Batch 2:  Loss:     0.6456 Validation Accuracy: 0.772277\n",
      "Epoch 20, CIFAR-10 Batch 3:  Loss:     0.6286 Validation Accuracy: 0.763614\n",
      "Epoch 20, CIFAR-10 Batch 4:  Loss:     0.6044 Validation Accuracy: 0.794554\n",
      "Epoch 20, CIFAR-10 Batch 5:  Loss:     0.6078 Validation Accuracy: 0.789604\n",
      "Epoch 21, CIFAR-10 Batch 1:  Loss:     0.6310 Validation Accuracy: 0.773515\n",
      "Epoch 21, CIFAR-10 Batch 2:  Loss:     0.6275 Validation Accuracy: 0.782178\n",
      "Epoch 21, CIFAR-10 Batch 3:  Loss:     0.6009 Validation Accuracy: 0.787129\n",
      "Epoch 21, CIFAR-10 Batch 4:  Loss:     0.5648 Validation Accuracy: 0.814356\n",
      "Epoch 21, CIFAR-10 Batch 5:  Loss:     0.5689 Validation Accuracy: 0.823020\n",
      "Epoch 22, CIFAR-10 Batch 1:  Loss:     0.5925 Validation Accuracy: 0.787129\n",
      "Epoch 22, CIFAR-10 Batch 2:  Loss:     0.6004 Validation Accuracy: 0.798267\n",
      "Epoch 22, CIFAR-10 Batch 3:  Loss:     0.5637 Validation Accuracy: 0.788366\n",
      "Epoch 22, CIFAR-10 Batch 4:  Loss:     0.5304 Validation Accuracy: 0.823020\n",
      "Epoch 22, CIFAR-10 Batch 5:  Loss:     0.5634 Validation Accuracy: 0.816832\n",
      "Epoch 23, CIFAR-10 Batch 1:  Loss:     0.5471 Validation Accuracy: 0.813119\n",
      "Epoch 23, CIFAR-10 Batch 2:  Loss:     0.5248 Validation Accuracy: 0.819307\n",
      "Epoch 23, CIFAR-10 Batch 3:  Loss:     0.5255 Validation Accuracy: 0.815594\n",
      "Epoch 23, CIFAR-10 Batch 4:  Loss:     0.4829 Validation Accuracy: 0.842822\n",
      "Epoch 23, CIFAR-10 Batch 5:  Loss:     0.5270 Validation Accuracy: 0.826733\n",
      "Epoch 24, CIFAR-10 Batch 1:  Loss:     0.5235 Validation Accuracy: 0.816832\n",
      "Epoch 24, CIFAR-10 Batch 2:  Loss:     0.5140 Validation Accuracy: 0.827970\n",
      "Epoch 24, CIFAR-10 Batch 3:  Loss:     0.4920 Validation Accuracy: 0.825495\n",
      "Epoch 24, CIFAR-10 Batch 4:  Loss:     0.4751 Validation Accuracy: 0.855198\n",
      "Epoch 24, CIFAR-10 Batch 5:  Loss:     0.5206 Validation Accuracy: 0.821782\n",
      "Epoch 25, CIFAR-10 Batch 1:  Loss:     0.4952 Validation Accuracy: 0.815594\n",
      "Epoch 25, CIFAR-10 Batch 2:  Loss:     0.4972 Validation Accuracy: 0.826733\n",
      "Epoch 25, CIFAR-10 Batch 3:  Loss:     0.4478 Validation Accuracy: 0.845297\n",
      "Epoch 25, CIFAR-10 Batch 4:  Loss:     0.4295 Validation Accuracy: 0.857673\n",
      "Epoch 25, CIFAR-10 Batch 5:  Loss:     0.4846 Validation Accuracy: 0.847772\n",
      "Epoch 26, CIFAR-10 Batch 1:  Loss:     0.4697 Validation Accuracy: 0.831683\n",
      "Epoch 26, CIFAR-10 Batch 2:  Loss:     0.4557 Validation Accuracy: 0.849010\n",
      "Epoch 26, CIFAR-10 Batch 3:  Loss:     0.4362 Validation Accuracy: 0.851485\n",
      "Epoch 26, CIFAR-10 Batch 4:  Loss:     0.3965 Validation Accuracy: 0.866337\n",
      "Epoch 26, CIFAR-10 Batch 5:  Loss:     0.4691 Validation Accuracy: 0.847772\n",
      "Epoch 27, CIFAR-10 Batch 1:  Loss:     0.4394 Validation Accuracy: 0.844059\n",
      "Epoch 27, CIFAR-10 Batch 2:  Loss:     0.4360 Validation Accuracy: 0.861386\n",
      "Epoch 27, CIFAR-10 Batch 3:  Loss:     0.4213 Validation Accuracy: 0.853960\n",
      "Epoch 27, CIFAR-10 Batch 4:  Loss:     0.3620 Validation Accuracy: 0.881188\n",
      "Epoch 27, CIFAR-10 Batch 5:  Loss:     0.4169 Validation Accuracy: 0.858911\n",
      "Epoch 28, CIFAR-10 Batch 1:  Loss:     0.4120 Validation Accuracy: 0.852723\n",
      "Epoch 28, CIFAR-10 Batch 2:  Loss:     0.4400 Validation Accuracy: 0.845297\n",
      "Epoch 28, CIFAR-10 Batch 3:  Loss:     0.3866 Validation Accuracy: 0.875000\n",
      "Epoch 28, CIFAR-10 Batch 4:  Loss:     0.3541 Validation Accuracy: 0.883663\n",
      "Epoch 28, CIFAR-10 Batch 5:  Loss:     0.3862 Validation Accuracy: 0.882426\n",
      "Epoch 29, CIFAR-10 Batch 1:  Loss:     0.3930 Validation Accuracy: 0.868812\n",
      "Epoch 29, CIFAR-10 Batch 2:  Loss:     0.3977 Validation Accuracy: 0.856436\n",
      "Epoch 29, CIFAR-10 Batch 3:  Loss:     0.3958 Validation Accuracy: 0.861386\n",
      "Epoch 29, CIFAR-10 Batch 4:  Loss:     0.3448 Validation Accuracy: 0.887376\n",
      "Epoch 29, CIFAR-10 Batch 5:  Loss:     0.3785 Validation Accuracy: 0.882426\n",
      "Epoch 30, CIFAR-10 Batch 1:  Loss:     0.3609 Validation Accuracy: 0.875000\n",
      "Epoch 30, CIFAR-10 Batch 2:  Loss:     0.3651 Validation Accuracy: 0.877475\n",
      "Epoch 30, CIFAR-10 Batch 3:  Loss:     0.3642 Validation Accuracy: 0.877475\n",
      "Epoch 30, CIFAR-10 Batch 4:  Loss:     0.3181 Validation Accuracy: 0.909653\n",
      "Epoch 30, CIFAR-10 Batch 5:  Loss:     0.3631 Validation Accuracy: 0.887376\n",
      "Epoch 31, CIFAR-10 Batch 1:  Loss:     0.3514 Validation Accuracy: 0.881188\n",
      "Epoch 31, CIFAR-10 Batch 2:  Loss:     0.3660 Validation Accuracy: 0.866337\n",
      "Epoch 31, CIFAR-10 Batch 3:  Loss:     0.3370 Validation Accuracy: 0.886139\n",
      "Epoch 31, CIFAR-10 Batch 4:  Loss:     0.3029 Validation Accuracy: 0.912129\n",
      "Epoch 31, CIFAR-10 Batch 5:  Loss:     0.3361 Validation Accuracy: 0.897277\n",
      "Epoch 32, CIFAR-10 Batch 1:  Loss:     0.3185 Validation Accuracy: 0.899752\n",
      "Epoch 32, CIFAR-10 Batch 2:  Loss:     0.3445 Validation Accuracy: 0.881188\n",
      "Epoch 32, CIFAR-10 Batch 3:  Loss:     0.3284 Validation Accuracy: 0.881188\n",
      "Epoch 32, CIFAR-10 Batch 4:  Loss:     0.3119 Validation Accuracy: 0.909653\n",
      "Epoch 32, CIFAR-10 Batch 5:  Loss:     0.3280 Validation Accuracy: 0.891089\n",
      "Epoch 33, CIFAR-10 Batch 1:  Loss:     0.3329 Validation Accuracy: 0.893564\n",
      "Epoch 33, CIFAR-10 Batch 2:  Loss:     0.3362 Validation Accuracy: 0.892327\n",
      "Epoch 33, CIFAR-10 Batch 3:  Loss:     0.3171 Validation Accuracy: 0.896040\n",
      "Epoch 33, CIFAR-10 Batch 4:  Loss:     0.2809 Validation Accuracy: 0.920792\n",
      "Epoch 33, CIFAR-10 Batch 5:  Loss:     0.2834 Validation Accuracy: 0.920792\n",
      "Epoch 34, CIFAR-10 Batch 1:  Loss:     0.2810 Validation Accuracy: 0.907178\n",
      "Epoch 34, CIFAR-10 Batch 2:  Loss:     0.3299 Validation Accuracy: 0.881188\n",
      "Epoch 34, CIFAR-10 Batch 3:  Loss:     0.3049 Validation Accuracy: 0.905941\n",
      "Epoch 34, CIFAR-10 Batch 4:  Loss:     0.2938 Validation Accuracy: 0.910891\n",
      "Epoch 34, CIFAR-10 Batch 5:  Loss:     0.3044 Validation Accuracy: 0.896040\n",
      "Epoch 35, CIFAR-10 Batch 1:  Loss:     0.2778 Validation Accuracy: 0.908416\n",
      "Epoch 35, CIFAR-10 Batch 2:  Loss:     0.2783 Validation Accuracy: 0.907178\n",
      "Epoch 35, CIFAR-10 Batch 3:  Loss:     0.2674 Validation Accuracy: 0.914604\n",
      "Epoch 35, CIFAR-10 Batch 4:  Loss:     0.2518 Validation Accuracy: 0.924505\n",
      "Epoch 35, CIFAR-10 Batch 5:  Loss:     0.2768 Validation Accuracy: 0.912129\n",
      "Epoch 36, CIFAR-10 Batch 1:  Loss:     0.3000 Validation Accuracy: 0.896040\n",
      "Epoch 36, CIFAR-10 Batch 2:  Loss:     0.2764 Validation Accuracy: 0.914604\n",
      "Epoch 36, CIFAR-10 Batch 3:  Loss:     0.2648 Validation Accuracy: 0.914604\n",
      "Epoch 36, CIFAR-10 Batch 4:  Loss:     0.2300 Validation Accuracy: 0.933168\n",
      "Epoch 36, CIFAR-10 Batch 5:  Loss:     0.2400 Validation Accuracy: 0.925743\n",
      "Epoch 37, CIFAR-10 Batch 1:  Loss:     0.2507 Validation Accuracy: 0.926980\n",
      "Epoch 37, CIFAR-10 Batch 2:  Loss:     0.2642 Validation Accuracy: 0.903465\n",
      "Epoch 37, CIFAR-10 Batch 3:  Loss:     0.2801 Validation Accuracy: 0.902228\n",
      "Epoch 37, CIFAR-10 Batch 4:  Loss:     0.2130 Validation Accuracy: 0.944307\n",
      "Epoch 37, CIFAR-10 Batch 5:  Loss:     0.2160 Validation Accuracy: 0.941832\n",
      "Epoch 38, CIFAR-10 Batch 1:  Loss:     0.2327 Validation Accuracy: 0.926980\n",
      "Epoch 38, CIFAR-10 Batch 2:  Loss:     0.2235 Validation Accuracy: 0.935644\n",
      "Epoch 38, CIFAR-10 Batch 3:  Loss:     0.2155 Validation Accuracy: 0.936881\n",
      "Epoch 38, CIFAR-10 Batch 4:  Loss:     0.2061 Validation Accuracy: 0.941832\n",
      "Epoch 38, CIFAR-10 Batch 5:  Loss:     0.2156 Validation Accuracy: 0.936881\n",
      "Epoch 39, CIFAR-10 Batch 1:  Loss:     0.2413 Validation Accuracy: 0.926980\n",
      "Epoch 39, CIFAR-10 Batch 2:  Loss:     0.2116 Validation Accuracy: 0.933168\n",
      "Epoch 39, CIFAR-10 Batch 3:  Loss:     0.2092 Validation Accuracy: 0.938119\n",
      "Epoch 39, CIFAR-10 Batch 4:  Loss:     0.1973 Validation Accuracy: 0.936881\n",
      "Epoch 39, CIFAR-10 Batch 5:  Loss:     0.1888 Validation Accuracy: 0.945544\n",
      "Epoch 40, CIFAR-10 Batch 1:  Loss:     0.2087 Validation Accuracy: 0.935644\n",
      "Epoch 40, CIFAR-10 Batch 2:  Loss:     0.2170 Validation Accuracy: 0.930693\n",
      "Epoch 40, CIFAR-10 Batch 3:  Loss:     0.1997 Validation Accuracy: 0.934406\n",
      "Epoch 40, CIFAR-10 Batch 4:  Loss:     0.1656 Validation Accuracy: 0.962871\n",
      "Epoch 40, CIFAR-10 Batch 5:  Loss:     0.1649 Validation Accuracy: 0.956683\n",
      "Epoch 41, CIFAR-10 Batch 1:  Loss:     0.1815 Validation Accuracy: 0.950495\n",
      "Epoch 41, CIFAR-10 Batch 2:  Loss:     0.1907 Validation Accuracy: 0.943069\n",
      "Epoch 41, CIFAR-10 Batch 3:  Loss:     0.2223 Validation Accuracy: 0.920792\n",
      "Epoch 41, CIFAR-10 Batch 4:  Loss:     0.1622 Validation Accuracy: 0.951733\n",
      "Epoch 41, CIFAR-10 Batch 5:  Loss:     0.1610 Validation Accuracy: 0.951733\n",
      "Epoch 42, CIFAR-10 Batch 1:  Loss:     0.1586 Validation Accuracy: 0.956683\n",
      "Epoch 42, CIFAR-10 Batch 2:  Loss:     0.1713 Validation Accuracy: 0.946782\n",
      "Epoch 42, CIFAR-10 Batch 3:  Loss:     0.1834 Validation Accuracy: 0.943069\n",
      "Epoch 42, CIFAR-10 Batch 4:  Loss:     0.1475 Validation Accuracy: 0.964109\n",
      "Epoch 42, CIFAR-10 Batch 5:  Loss:     0.1654 Validation Accuracy: 0.954208\n",
      "Epoch 43, CIFAR-10 Batch 1:  Loss:     0.1535 Validation Accuracy: 0.959158\n",
      "Epoch 43, CIFAR-10 Batch 2:  Loss:     0.1546 Validation Accuracy: 0.956683\n",
      "Epoch 43, CIFAR-10 Batch 3:  Loss:     0.1539 Validation Accuracy: 0.956683\n",
      "Epoch 43, CIFAR-10 Batch 4:  Loss:     0.1352 Validation Accuracy: 0.966584\n",
      "Epoch 43, CIFAR-10 Batch 5:  Loss:     0.1447 Validation Accuracy: 0.956683\n",
      "Epoch 44, CIFAR-10 Batch 1:  Loss:     0.1497 Validation Accuracy: 0.966584\n",
      "Epoch 44, CIFAR-10 Batch 2:  Loss:     0.1623 Validation Accuracy: 0.948020\n",
      "Epoch 44, CIFAR-10 Batch 3:  Loss:     0.1435 Validation Accuracy: 0.955446\n",
      "Epoch 44, CIFAR-10 Batch 4:  Loss:     0.1270 Validation Accuracy: 0.966584\n",
      "Epoch 44, CIFAR-10 Batch 5:  Loss:     0.1445 Validation Accuracy: 0.962871\n",
      "Epoch 45, CIFAR-10 Batch 1:  Loss:     0.1358 Validation Accuracy: 0.961634\n",
      "Epoch 45, CIFAR-10 Batch 2:  Loss:     0.1459 Validation Accuracy: 0.957921\n",
      "Epoch 45, CIFAR-10 Batch 3:  Loss:     0.1321 Validation Accuracy: 0.961634\n",
      "Epoch 45, CIFAR-10 Batch 4:  Loss:     0.1133 Validation Accuracy: 0.974010\n",
      "Epoch 45, CIFAR-10 Batch 5:  Loss:     0.1260 Validation Accuracy: 0.966584\n",
      "Epoch 46, CIFAR-10 Batch 1:  Loss:     0.1264 Validation Accuracy: 0.966584\n",
      "Epoch 46, CIFAR-10 Batch 2:  Loss:     0.1363 Validation Accuracy: 0.956683\n",
      "Epoch 46, CIFAR-10 Batch 3:  Loss:     0.1272 Validation Accuracy: 0.965346\n",
      "Epoch 46, CIFAR-10 Batch 4:  Loss:     0.1065 Validation Accuracy: 0.976485\n",
      "Epoch 46, CIFAR-10 Batch 5:  Loss:     0.1296 Validation Accuracy: 0.965347\n",
      "Epoch 47, CIFAR-10 Batch 1:  Loss:     0.1407 Validation Accuracy: 0.955446\n",
      "Epoch 47, CIFAR-10 Batch 2:  Loss:     0.1341 Validation Accuracy: 0.966584\n",
      "Epoch 47, CIFAR-10 Batch 3:  Loss:     0.1288 Validation Accuracy: 0.964109\n",
      "Epoch 47, CIFAR-10 Batch 4:  Loss:     0.1103 Validation Accuracy: 0.976485\n",
      "Epoch 47, CIFAR-10 Batch 5:  Loss:     0.1143 Validation Accuracy: 0.969059\n",
      "Epoch 48, CIFAR-10 Batch 1:  Loss:     0.1145 Validation Accuracy: 0.970297\n",
      "Epoch 48, CIFAR-10 Batch 2:  Loss:     0.1266 Validation Accuracy: 0.964109\n",
      "Epoch 48, CIFAR-10 Batch 3:  Loss:     0.1233 Validation Accuracy: 0.965347\n",
      "Epoch 48, CIFAR-10 Batch 4:  Loss:     0.1087 Validation Accuracy: 0.975248\n",
      "Epoch 48, CIFAR-10 Batch 5:  Loss:     0.1127 Validation Accuracy: 0.972772\n",
      "Epoch 49, CIFAR-10 Batch 1:  Loss:     0.1094 Validation Accuracy: 0.971535\n",
      "Epoch 49, CIFAR-10 Batch 2:  Loss:     0.1297 Validation Accuracy: 0.962871\n",
      "Epoch 49, CIFAR-10 Batch 3:  Loss:     0.1133 Validation Accuracy: 0.967822\n",
      "Epoch 49, CIFAR-10 Batch 4:  Loss:     0.0994 Validation Accuracy: 0.975248\n",
      "Epoch 49, CIFAR-10 Batch 5:  Loss:     0.1003 Validation Accuracy: 0.976485\n",
      "Epoch 50, CIFAR-10 Batch 1:  Loss:     0.1098 Validation Accuracy: 0.975248\n",
      "Epoch 50, CIFAR-10 Batch 2:  Loss:     0.1192 Validation Accuracy: 0.965347\n",
      "Epoch 50, CIFAR-10 Batch 3:  Loss:     0.1087 Validation Accuracy: 0.967822\n",
      "Epoch 50, CIFAR-10 Batch 4:  Loss:     0.0837 Validation Accuracy: 0.982673\n",
      "Epoch 50, CIFAR-10 Batch 5:  Loss:     0.0981 Validation Accuracy: 0.982673\n"
     ]
    }
   ],
   "source": [
    "\"\"\"\n",
    "DON'T MODIFY ANYTHING IN THIS CELL\n",
    "\"\"\"\n",
    "save_model_path = './image_classification'\n",
    "\n",
    "print('Training...')\n",
    "with tf.Session() as sess:\n",
    "    # Initializing the variables\n",
    "    sess.run(tf.global_variables_initializer())\n",
    "    \n",
    "    # Training cycle\n",
    "    for epoch in range(epochs):\n",
    "        # Loop over all batches\n",
    "        n_batches = 5\n",
    "        for batch_i in range(1, n_batches + 1):\n",
    "            for batch_features, batch_labels in helper.load_preprocess_training_batch(batch_i, batch_size):\n",
    "                train_neural_network(sess, optimizer, keep_probability, batch_features, batch_labels)\n",
    "            print('Epoch {:>2}, CIFAR-10 Batch {}:  '.format(epoch + 1, batch_i), end='')\n",
    "            print_stats(sess, batch_features, batch_labels, cost, accuracy)\n",
    "            \n",
    "    # Save Model\n",
    "    saver = tf.train.Saver()\n",
    "    save_path = saver.save(sess, save_model_path)"
   ]
  },
  {
   "cell_type": "markdown",
   "metadata": {
    "deletable": true,
    "editable": true
   },
   "source": [
    "# Checkpoint\n",
    "The model has been saved to disk.\n",
    "## Test Model\n",
    "Test your model against the test dataset.  This will be your final accuracy. You should have an accuracy greater than 50%. If you don't, keep tweaking the model architecture and parameters."
   ]
  },
  {
   "cell_type": "code",
   "execution_count": 56,
   "metadata": {
    "collapsed": false,
    "deletable": true,
    "editable": true
   },
   "outputs": [
    {
     "name": "stdout",
     "output_type": "stream",
     "text": [
      "Testing Accuracy: 0.6763691782951355\n",
      "\n"
     ]
    },
    {
     "data": {
      "image/png": "[encoded data removed]",
      "text/plain": [
       "<matplotlib.figure.Figure at 0x7fa406178668>"
      ]
     },
     "metadata": {
      "image/png": {
       "height": 319,
       "width": 355
      }
     },
     "output_type": "display_data"
    }
   ],
   "source": [
    "\"\"\"\n",
    "DON'T MODIFY ANYTHING IN THIS CELL\n",
    "\"\"\"\n",
    "%matplotlib inline\n",
    "%config InlineBackend.figure_format = 'retina'\n",
    "\n",
    "import tensorflow as tf\n",
    "import pickle\n",
    "import helper\n",
    "import random\n",
    "\n",
    "# Set batch size if not already set\n",
    "try:\n",
    "    if batch_size:\n",
    "        pass\n",
    "except NameError:\n",
    "    batch_size = 64\n",
    "\n",
    "save_model_path = './image_classification'\n",
    "n_samples = 4\n",
    "top_n_predictions = 3\n",
    "\n",
    "def test_model():\n",
    "    \"\"\"\n",
    "    Test the saved model against the test dataset\n",
    "    \"\"\"\n",
    "\n",
    "    test_features, test_labels = pickle.load(open('preprocess_training.p', mode='rb'))\n",
    "    loaded_graph = tf.Graph()\n",
    "\n",
    "    with tf.Session(graph=loaded_graph) as sess:\n",
    "        # Load model\n",
    "        loader = tf.train.import_meta_graph(save_model_path + '.meta')\n",
    "        loader.restore(sess, save_model_path)\n",
    "\n",
    "        # Get Tensors from loaded model\n",
    "        loaded_x = loaded_graph.get_tensor_by_name('x:0')\n",
    "        loaded_y = loaded_graph.get_tensor_by_name('y:0')\n",
    "        loaded_keep_prob = loaded_graph.get_tensor_by_name('keep_prob:0')\n",
    "        loaded_logits = loaded_graph.get_tensor_by_name('logits:0')\n",
    "        loaded_acc = loaded_graph.get_tensor_by_name('accuracy:0')\n",
    "        \n",
    "        # Get accuracy in batches for memory limitations\n",
    "        test_batch_acc_total = 0\n",
    "        test_batch_count = 0\n",
    "        \n",
    "        for train_feature_batch, train_label_batch in helper.batch_features_labels(test_features, test_labels, batch_size):\n",
    "            test_batch_acc_total += sess.run(\n",
    "                loaded_acc,\n",
    "                feed_dict={loaded_x: train_feature_batch, loaded_y: train_label_batch, loaded_keep_prob: 1.0})\n",
    "            test_batch_count += 1\n",
    "\n",
    "        print('Testing Accuracy: {}\\n'.format(test_batch_acc_total/test_batch_count))\n",
    "\n",
    "        # Print Random Samples\n",
    "        random_test_features, random_test_labels = tuple(zip(*random.sample(list(zip(test_features, test_labels)), n_samples)))\n",
    "        random_test_predictions = sess.run(\n",
    "            tf.nn.top_k(tf.nn.softmax(loaded_logits), top_n_predictions),\n",
    "            feed_dict={loaded_x: random_test_features, loaded_y: random_test_labels, loaded_keep_prob: 1.0})\n",
    "        helper.display_image_predictions(random_test_features, random_test_labels, random_test_predictions)\n",
    "\n",
    "\n",
    "test_model()"
   ]
  },
  {
   "cell_type": "markdown",
   "metadata": {
    "deletable": true,
    "editable": true
   },
   "source": [
    "## Why 50-80% Accuracy?\n",
    "You might be wondering why you can't get an accuracy any higher. First things first, 50% isn't bad for a simple CNN.  Pure guessing would get you 10% accuracy. However, you might notice people are getting scores [well above 80%](http://rodrigob.github.io/are_we_there_yet/build/classification_datasets_results.html#43494641522d3130).  That's because we haven't taught you all there is to know about neural networks. We still need to cover a few more techniques.\n",
    "## Submitting This Project\n",
    "When submitting this project, make sure to run all the cells before saving the notebook.  Save the notebook file as \"dlnd_image_classification.ipynb\" and save it as a HTML file under \"File\" -> \"Download as\".  Include the \"helper.py\" and \"problem_unittests.py\" files in your submission."
   ]
  }
 ],
 "metadata": {
  "anaconda-cloud": {},
  "kernelspec": {
   "display_name": "Python 3",
   "language": "python",
   "name": "python3"
  },
  "language_info": {
   "codemirror_mode": {
    "name": "ipython",
    "version": 3
   },
   "file_extension": ".py",
   "mimetype": "text/x-python",
   "name": "python",
   "nbconvert_exporter": "python",
   "pygments_lexer": "ipython3",
   "version": "3.5.2"
  },
  "widgets": {
   "state": {},
   "version": "1.1.2"
  }
 },
 "nbformat": 4,
 "nbformat_minor": 0
}
