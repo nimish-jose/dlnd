{
 "cells": [
  {
   "cell_type": "markdown",
   "metadata": {
    "collapsed": true,
    "deletable": true,
    "editable": true
   },
   "source": [
    "# Image Classification\n",
    "In this project, you'll classify images from the [CIFAR-10 dataset](https://www.cs.toronto.edu/~kriz/cifar.html).  The dataset consists of airplanes, dogs, cats, and other objects. You'll preprocess the images, then train a convolutional neural network on all the samples. The images need to be normalized and the labels need to be one-hot encoded.  You'll get to apply what you learned and build a convolutional, max pooling, dropout, and fully connected layers.  At the end, you'll get to see your neural network's predictions on the sample images.\n",
    "## Get the Data\n",
    "Run the following cell to download the [CIFAR-10 dataset for python](https://www.cs.toronto.edu/~kriz/cifar-10-python.tar.gz)."
   ]
  },
  {
   "cell_type": "code",
   "execution_count": 14,
   "metadata": {
    "collapsed": false,
    "deletable": true,
    "editable": true
   },
   "outputs": [
    {
     "name": "stdout",
     "output_type": "stream",
     "text": [
      "All files found!\n"
     ]
    }
   ],
   "source": [
    "\"\"\"\n",
    "DON'T MODIFY ANYTHING IN THIS CELL THAT IS BELOW THIS LINE\n",
    "\"\"\"\n",
    "from urllib.request import urlretrieve\n",
    "from os.path import isfile, isdir\n",
    "from tqdm import tqdm\n",
    "import problem_unittests as tests\n",
    "import tarfile\n",
    "\n",
    "cifar10_dataset_folder_path = 'cifar-10-batches-py'\n",
    "\n",
    "class DLProgress(tqdm):\n",
    "    last_block = 0\n",
    "\n",
    "    def hook(self, block_num=1, block_size=1, total_size=None):\n",
    "        self.total = total_size\n",
    "        self.update((block_num - self.last_block) * block_size)\n",
    "        self.last_block = block_num\n",
    "\n",
    "if not isfile('cifar-10-python.tar.gz'):\n",
    "    with DLProgress(unit='B', unit_scale=True, miniters=1, desc='CIFAR-10 Dataset') as pbar:\n",
    "        urlretrieve(\n",
    "            'https://www.cs.toronto.edu/~kriz/cifar-10-python.tar.gz',\n",
    "            'cifar-10-python.tar.gz',\n",
    "            pbar.hook)\n",
    "\n",
    "if not isdir(cifar10_dataset_folder_path):\n",
    "    with tarfile.open('cifar-10-python.tar.gz') as tar:\n",
    "        tar.extractall()\n",
    "        tar.close()\n",
    "\n",
    "\n",
    "tests.test_folder_path(cifar10_dataset_folder_path)"
   ]
  },
  {
   "cell_type": "markdown",
   "metadata": {
    "deletable": true,
    "editable": true
   },
   "source": [
    "## Explore the Data\n",
    "The dataset is broken into batches to prevent your machine from running out of memory.  The CIFAR-10 dataset consists of 5 batches, named `data_batch_1`, `data_batch_2`, etc.. Each batch contains the labels and images that are one of the following:\n",
    "* airplane\n",
    "* automobile\n",
    "* bird\n",
    "* cat\n",
    "* deer\n",
    "* dog\n",
    "* frog\n",
    "* horse\n",
    "* ship\n",
    "* truck\n",
    "\n",
    "Understanding a dataset is part of making predictions on the data.  Play around with the code cell below by changing the `batch_id` and `sample_id`. The `batch_id` is the id for a batch (1-5). The `sample_id` is the id for a image and label pair in the batch.\n",
    "\n",
    "Ask yourself \"What are all possible labels?\", \"What is the range of values for the image data?\", \"Are the labels in order or random?\".  Answers to questions like these will help you preprocess the data and end up with better predictions."
   ]
  },
  {
   "cell_type": "code",
   "execution_count": 15,
   "metadata": {
    "collapsed": false,
    "deletable": true,
    "editable": true
   },
   "outputs": [
    {
     "name": "stdout",
     "output_type": "stream",
     "text": [
      "\n",
      "Stats of batch 1:\n",
      "Samples: 10000\n",
      "Label Counts: {0: 1005, 1: 974, 2: 1032, 3: 1016, 4: 999, 5: 937, 6: 1030, 7: 1001, 8: 1025, 9: 981}\n",
      "First 20 Labels: [6, 9, 9, 4, 1, 1, 2, 7, 8, 3, 4, 7, 7, 2, 9, 9, 9, 3, 2, 6]\n",
      "\n",
      "Example of Image 5:\n",
      "Image - Min Value: 0 Max Value: 252\n",
      "Image - Shape: (32, 32, 3)\n",
      "Label - Label Id: 1 Name: automobile\n"
     ]
    },
    {
     "data": {
      "image/png": "[encoded data removed]",
      "text/plain": [
       "<matplotlib.figure.Figure at 0x7f92f43e4cf8>"
      ]
     },
     "metadata": {
      "image/png": {
       "height": 250,
       "width": 253
      }
     },
     "output_type": "display_data"
    }
   ],
   "source": [
    "%matplotlib inline\n",
    "%config InlineBackend.figure_format = 'retina'\n",
    "\n",
    "import helper\n",
    "import numpy as np\n",
    "\n",
    "# Explore the dataset\n",
    "batch_id = 1\n",
    "sample_id = 5\n",
    "helper.display_stats(cifar10_dataset_folder_path, batch_id, sample_id)"
   ]
  },
  {
   "cell_type": "markdown",
   "metadata": {
    "deletable": true,
    "editable": true
   },
   "source": [
    "## Implement Preprocess Functions\n",
    "### Normalize\n",
    "In the cell below, implement the `normalize` function to take in image data, `x`, and return it as a normalized Numpy array. The values should be in the range of 0 to 1, inclusive.  The return object should be the same shape as `x`."
   ]
  },
  {
   "cell_type": "code",
   "execution_count": 16,
   "metadata": {
    "collapsed": false,
    "deletable": true,
    "editable": true
   },
   "outputs": [
    {
     "name": "stdout",
     "output_type": "stream",
     "text": [
      "Tests Passed\n"
     ]
    }
   ],
   "source": [
    "def normalize(x):\n",
    "    \"\"\"\n",
    "    Normalize a list of sample image data in the range of 0 to 1\n",
    "    : x: List of image data.  The image shape is (32, 32, 3)\n",
    "    : return: Numpy array of normalize data\n",
    "    \"\"\"\n",
    "    return (x - x.min())/(x.max() - x.min())\n",
    "\n",
    "\n",
    "\"\"\"\n",
    "DON'T MODIFY ANYTHING IN THIS CELL THAT IS BELOW THIS LINE\n",
    "\"\"\"\n",
    "tests.test_normalize(normalize)"
   ]
  },
  {
   "cell_type": "markdown",
   "metadata": {
    "deletable": true,
    "editable": true
   },
   "source": [
    "### One-hot encode\n",
    "Just like the previous code cell, you'll be implementing a function for preprocessing.  This time, you'll implement the `one_hot_encode` function. The input, `x`, are a list of labels.  Implement the function to return the list of labels as One-Hot encoded Numpy array.  The possible values for labels are 0 to 9. The one-hot encoding function should return the same encoding for each value between each call to `one_hot_encode`.  Make sure to save the map of encodings outside the function.\n",
    "\n",
    "Hint: Don't reinvent the wheel."
   ]
  },
  {
   "cell_type": "code",
   "execution_count": 17,
   "metadata": {
    "collapsed": false,
    "deletable": true,
    "editable": true
   },
   "outputs": [
    {
     "name": "stdout",
     "output_type": "stream",
     "text": [
      "Tests Passed\n"
     ]
    }
   ],
   "source": [
    "from sklearn.preprocessing import LabelBinarizer\n",
    "lb = LabelBinarizer()\n",
    "lb.fit(np.arange(10))\n",
    "\n",
    "def one_hot_encode(x):\n",
    "    \"\"\"\n",
    "    One hot encode a list of sample labels. Return a one-hot encoded vector for each label.\n",
    "    : x: List of sample Labels\n",
    "    : return: Numpy array of one-hot encoded labels\n",
    "    \"\"\"\n",
    "    # TODO: Implement Function\n",
    "    arr = np.array(x)\n",
    "    return lb.transform(arr)\n",
    "\n",
    "\n",
    "\"\"\"\n",
    "DON'T MODIFY ANYTHING IN THIS CELL THAT IS BELOW THIS LINE\n",
    "\"\"\"\n",
    "tests.test_one_hot_encode(one_hot_encode)"
   ]
  },
  {
   "cell_type": "markdown",
   "metadata": {
    "deletable": true,
    "editable": true
   },
   "source": [
    "### Randomize Data\n",
    "As you saw from exploring the data above, the order of the samples are randomized.  It doesn't hurt to randomize it again, but you don't need to for this dataset."
   ]
  },
  {
   "cell_type": "markdown",
   "metadata": {
    "deletable": true,
    "editable": true
   },
   "source": [
    "## Preprocess all the data and save it\n",
    "Running the code cell below will preprocess all the CIFAR-10 data and save it to file. The code below also uses 10% of the training data for validation."
   ]
  },
  {
   "cell_type": "code",
   "execution_count": 18,
   "metadata": {
    "collapsed": false,
    "deletable": true,
    "editable": true
   },
   "outputs": [],
   "source": [
    "\"\"\"\n",
    "DON'T MODIFY ANYTHING IN THIS CELL\n",
    "\"\"\"\n",
    "# Preprocess Training, Validation, and Testing Data\n",
    "helper.preprocess_and_save_data(cifar10_dataset_folder_path, normalize, one_hot_encode)"
   ]
  },
  {
   "cell_type": "markdown",
   "metadata": {
    "deletable": true,
    "editable": true
   },
   "source": [
    "# Check Point\n",
    "This is your first checkpoint.  If you ever decide to come back to this notebook or have to restart the notebook, you can start from here.  The preprocessed data has been saved to disk."
   ]
  },
  {
   "cell_type": "code",
   "execution_count": 1,
   "metadata": {
    "collapsed": true,
    "deletable": true,
    "editable": true
   },
   "outputs": [],
   "source": [
    "\"\"\"\n",
    "DON'T MODIFY ANYTHING IN THIS CELL\n",
    "\"\"\"\n",
    "import pickle\n",
    "import problem_unittests as tests\n",
    "import helper\n",
    "\n",
    "# Load the Preprocessed Validation data\n",
    "valid_features, valid_labels = pickle.load(open('preprocess_validation.p', mode='rb'))"
   ]
  },
  {
   "cell_type": "markdown",
   "metadata": {
    "deletable": true,
    "editable": true
   },
   "source": [
    "## Build the network\n",
    "For the neural network, you'll build each layer into a function.  Most of the code you've seen has been outside of functions. To test your code more thoroughly, we require that you put each layer in a function.  This allows us to give you better feedback and test for simple mistakes using our unittests before you submit your project.\n",
    "\n",
    ">**Note:** If you're finding it hard to dedicate enough time for this course each week, we've provided a small shortcut to this part of the project. In the next couple of problems, you'll have the option to use classes from the [TensorFlow Layers](https://www.tensorflow.org/api_docs/python/tf/layers) or [TensorFlow Layers (contrib)](https://www.tensorflow.org/api_guides/python/contrib.layers) packages to build each layer, except the layers you build in the \"Convolutional and Max Pooling Layer\" section.  TF Layers is similar to Keras's and TFLearn's abstraction to layers, so it's easy to pickup.\n",
    "\n",
    ">However, if you would like to get the most out of this course, try to solve all the problems _without_ using anything from the TF Layers packages. You **can** still use classes from other packages that happen to have the same name as ones you find in TF Layers! For example, instead of using the TF Layers version of the `conv2d` class, [tf.layers.conv2d](https://www.tensorflow.org/api_docs/python/tf/layers/conv2d), you would want to use the TF Neural Network version of `conv2d`, [tf.nn.conv2d](https://www.tensorflow.org/api_docs/python/tf/nn/conv2d). \n",
    "\n",
    "Let's begin!\n",
    "\n",
    "### Input\n",
    "The neural network needs to read the image data, one-hot encoded labels, and dropout keep probability. Implement the following functions\n",
    "* Implement `neural_net_image_input`\n",
    " * Return a [TF Placeholder](https://www.tensorflow.org/api_docs/python/tf/placeholder)\n",
    " * Set the shape using `image_shape` with batch size set to `None`.\n",
    " * Name the TensorFlow placeholder \"x\" using the TensorFlow `name` parameter in the [TF Placeholder](https://www.tensorflow.org/api_docs/python/tf/placeholder).\n",
    "* Implement `neural_net_label_input`\n",
    " * Return a [TF Placeholder](https://www.tensorflow.org/api_docs/python/tf/placeholder)\n",
    " * Set the shape using `n_classes` with batch size set to `None`.\n",
    " * Name the TensorFlow placeholder \"y\" using the TensorFlow `name` parameter in the [TF Placeholder](https://www.tensorflow.org/api_docs/python/tf/placeholder).\n",
    "* Implement `neural_net_keep_prob_input`\n",
    " * Return a [TF Placeholder](https://www.tensorflow.org/api_docs/python/tf/placeholder) for dropout keep probability.\n",
    " * Name the TensorFlow placeholder \"keep_prob\" using the TensorFlow `name` parameter in the [TF Placeholder](https://www.tensorflow.org/api_docs/python/tf/placeholder).\n",
    "\n",
    "These names will be used at the end of the project to load your saved model.\n",
    "\n",
    "Note: `None` for shapes in TensorFlow allow for a dynamic size."
   ]
  },
  {
   "cell_type": "code",
   "execution_count": 2,
   "metadata": {
    "collapsed": false,
    "deletable": true,
    "editable": true
   },
   "outputs": [
    {
     "name": "stdout",
     "output_type": "stream",
     "text": [
      "Image Input Tests Passed.\n",
      "Label Input Tests Passed.\n",
      "Keep Prob Tests Passed.\n"
     ]
    }
   ],
   "source": [
    "import tensorflow as tf\n",
    "\n",
    "def neural_net_image_input(image_shape):\n",
    "    \"\"\"\n",
    "    Return a Tensor for a batch of image input\n",
    "    : image_shape: Shape of the images\n",
    "    : return: Tensor for image input.\n",
    "    \"\"\"\n",
    "    # TODO: Implement Function\n",
    "    return tf.placeholder(tf.float32, shape=(None, image_shape[0], image_shape[1], image_shape[2]), name=\"x\")\n",
    "\n",
    "\n",
    "def neural_net_label_input(n_classes):\n",
    "    \"\"\"\n",
    "    Return a Tensor for a batch of label input\n",
    "    : n_classes: Number of classes\n",
    "    : return: Tensor for label input.\n",
    "    \"\"\"\n",
    "    # TODO: Implement Function\n",
    "    return tf.placeholder(tf.float32, shape=(None, n_classes), name=\"y\")\n",
    "\n",
    "\n",
    "def neural_net_keep_prob_input():\n",
    "    \"\"\"\n",
    "    Return a Tensor for keep probability\n",
    "    : return: Tensor for keep probability.\n",
    "    \"\"\"\n",
    "    # TODO: Implement Function\n",
    "    return tf.placeholder(tf.float32, name=\"keep_prob\")\n",
    "\n",
    "\n",
    "\"\"\"\n",
    "DON'T MODIFY ANYTHING IN THIS CELL THAT IS BELOW THIS LINE\n",
    "\"\"\"\n",
    "tf.reset_default_graph()\n",
    "tests.test_nn_image_inputs(neural_net_image_input)\n",
    "tests.test_nn_label_inputs(neural_net_label_input)\n",
    "tests.test_nn_keep_prob_inputs(neural_net_keep_prob_input)"
   ]
  },
  {
   "cell_type": "markdown",
   "metadata": {
    "deletable": true,
    "editable": true
   },
   "source": [
    "### Convolution and Max Pooling Layer\n",
    "Convolution layers have a lot of success with images. For this code cell, you should implement the function `conv2d_maxpool` to apply convolution then max pooling:\n",
    "* Create the weight and bias using `conv_ksize`, `conv_num_outputs` and the shape of `x_tensor`.\n",
    "* Apply a convolution to `x_tensor` using weight and `conv_strides`.\n",
    " * We recommend you use same padding, but you're welcome to use any padding.\n",
    "* Add bias\n",
    "* Add a nonlinear activation to the convolution.\n",
    "* Apply Max Pooling using `pool_ksize` and `pool_strides`.\n",
    " * We recommend you use same padding, but you're welcome to use any padding.\n",
    "\n",
    "**Note:** You **can't** use [TensorFlow Layers](https://www.tensorflow.org/api_docs/python/tf/layers) or [TensorFlow Layers (contrib)](https://www.tensorflow.org/api_guides/python/contrib.layers) for **this** layer, but you can still use TensorFlow's [Neural Network](https://www.tensorflow.org/api_docs/python/tf/nn) package. You may still use the shortcut option for all the **other** layers."
   ]
  },
  {
   "cell_type": "code",
   "execution_count": 3,
   "metadata": {
    "collapsed": false,
    "deletable": true,
    "editable": true
   },
   "outputs": [
    {
     "name": "stdout",
     "output_type": "stream",
     "text": [
      "Tests Passed\n"
     ]
    }
   ],
   "source": [
    "def conv2d_maxpool(x_tensor, conv_num_outputs, conv_ksize, conv_strides, pool_ksize, pool_strides):\n",
    "    \"\"\"\n",
    "    Apply convolution then max pooling to x_tensor\n",
    "    :param x_tensor: TensorFlow Tensor\n",
    "    :param conv_num_outputs: Number of outputs for the convolutional layer\n",
    "    :param conv_ksize: kernal size 2-D Tuple for the convolutional layer\n",
    "    :param conv_strides: Stride 2-D Tuple for convolution\n",
    "    :param pool_ksize: kernal size 2-D Tuple for pool\n",
    "    :param pool_strides: Stride 2-D Tuple for pool\n",
    "    : return: A tensor that represents convolution and max pooling of x_tensor\n",
    "    \"\"\"\n",
    "    # TODO: Implement Function\n",
    "    x_depth = x_tensor.get_shape().as_list()[3]\n",
    "    weight = tf.Variable(tf.truncated_normal([conv_ksize[0], conv_ksize[1], x_depth, conv_num_outputs], stddev=0.1))\n",
    "    bias = tf.Variable(tf.zeros(conv_num_outputs))\n",
    "    \n",
    "    conv_layer = tf.nn.conv2d(x_tensor, weight, strides=[1, conv_strides[0], conv_strides[1], 1], padding='SAME')\n",
    "    conv_layer = tf.nn.bias_add(conv_layer, bias)\n",
    "    conv_layer = tf.nn.relu(conv_layer)\n",
    "    conv_layer = tf.nn.max_pool(conv_layer, ksize=[1, pool_ksize[0], pool_ksize[1], 1], strides=[1, pool_strides[0], pool_strides[1], 1], padding='SAME')\n",
    "    return conv_layer\n",
    "\n",
    "\n",
    "\"\"\"\n",
    "DON'T MODIFY ANYTHING IN THIS CELL THAT IS BELOW THIS LINE\n",
    "\"\"\"\n",
    "tests.test_con_pool(conv2d_maxpool)"
   ]
  },
  {
   "cell_type": "markdown",
   "metadata": {
    "deletable": true,
    "editable": true
   },
   "source": [
    "### Flatten Layer\n",
    "Implement the `flatten` function to change the dimension of `x_tensor` from a 4-D tensor to a 2-D tensor.  The output should be the shape (*Batch Size*, *Flattened Image Size*). Shortcut option: you can use classes from the [TensorFlow Layers](https://www.tensorflow.org/api_docs/python/tf/layers) or [TensorFlow Layers (contrib)](https://www.tensorflow.org/api_guides/python/contrib.layers) packages for this layer. For more of a challenge, only use other TensorFlow packages."
   ]
  },
  {
   "cell_type": "code",
   "execution_count": 4,
   "metadata": {
    "collapsed": false,
    "deletable": true,
    "editable": true
   },
   "outputs": [
    {
     "name": "stdout",
     "output_type": "stream",
     "text": [
      "Tests Passed\n"
     ]
    }
   ],
   "source": [
    "def flatten(x_tensor):\n",
    "    \"\"\"\n",
    "    Flatten x_tensor to (Batch Size, Flattened Image Size)\n",
    "    : x_tensor: A tensor of size (Batch Size, ...), where ... are the image dimensions.\n",
    "    : return: A tensor of size (Batch Size, Flattened Image Size).\n",
    "    \"\"\"\n",
    "    # TODO: Implement Function\n",
    "    shape = x_tensor.get_shape().as_list()\n",
    "    flat_size = tf.cast(shape[1]*shape[2]*shape[3], tf.int32)\n",
    "    return tf.reshape(x_tensor, [-1, flat_size])\n",
    "\n",
    "\n",
    "\"\"\"\n",
    "DON'T MODIFY ANYTHING IN THIS CELL THAT IS BELOW THIS LINE\n",
    "\"\"\"\n",
    "tests.test_flatten(flatten)"
   ]
  },
  {
   "cell_type": "markdown",
   "metadata": {
    "deletable": true,
    "editable": true
   },
   "source": [
    "### Fully-Connected Layer\n",
    "Implement the `fully_conn` function to apply a fully connected layer to `x_tensor` with the shape (*Batch Size*, *num_outputs*). Shortcut option: you can use classes from the [TensorFlow Layers](https://www.tensorflow.org/api_docs/python/tf/layers) or [TensorFlow Layers (contrib)](https://www.tensorflow.org/api_guides/python/contrib.layers) packages for this layer. For more of a challenge, only use other TensorFlow packages."
   ]
  },
  {
   "cell_type": "code",
   "execution_count": 5,
   "metadata": {
    "collapsed": false,
    "deletable": true,
    "editable": true
   },
   "outputs": [
    {
     "name": "stdout",
     "output_type": "stream",
     "text": [
      "Tests Passed\n"
     ]
    }
   ],
   "source": [
    "def fully_conn(x_tensor, num_outputs):\n",
    "    \"\"\"\n",
    "    Apply a fully connected layer to x_tensor using weight and bias\n",
    "    : x_tensor: A 2-D tensor where the first dimension is batch size.\n",
    "    : num_outputs: The number of output that the new tensor should be.\n",
    "    : return: A 2-D tensor where the second dimension is num_outputs.\n",
    "    \"\"\"\n",
    "    # TODO: Implement Function\n",
    "    x_size = x_tensor.get_shape().as_list()[1]\n",
    "    weight = tf.Variable(tf.truncated_normal([x_size, num_outputs], stddev=0.1))\n",
    "    bias = tf.Variable(tf.zeros(num_outputs))\n",
    "    \n",
    "    fc_layer = tf.add(tf.matmul(x_tensor, weight), bias)\n",
    "    fc_layer = tf.nn.relu(fc_layer)\n",
    "    return fc_layer\n",
    "\n",
    "\n",
    "\"\"\"\n",
    "DON'T MODIFY ANYTHING IN THIS CELL THAT IS BELOW THIS LINE\n",
    "\"\"\"\n",
    "tests.test_fully_conn(fully_conn)"
   ]
  },
  {
   "cell_type": "markdown",
   "metadata": {
    "deletable": true,
    "editable": true
   },
   "source": [
    "### Output Layer\n",
    "Implement the `output` function to apply a fully connected layer to `x_tensor` with the shape (*Batch Size*, *num_outputs*). Shortcut option: you can use classes from the [TensorFlow Layers](https://www.tensorflow.org/api_docs/python/tf/layers) or [TensorFlow Layers (contrib)](https://www.tensorflow.org/api_guides/python/contrib.layers) packages for this layer. For more of a challenge, only use other TensorFlow packages.\n",
    "\n",
    "**Note:** Activation, softmax, or cross entropy should **not** be applied to this."
   ]
  },
  {
   "cell_type": "code",
   "execution_count": 6,
   "metadata": {
    "collapsed": false,
    "deletable": true,
    "editable": true
   },
   "outputs": [
    {
     "name": "stdout",
     "output_type": "stream",
     "text": [
      "Tests Passed\n"
     ]
    }
   ],
   "source": [
    "def output(x_tensor, num_outputs):\n",
    "    \"\"\"\n",
    "    Apply a output layer to x_tensor using weight and bias\n",
    "    : x_tensor: A 2-D tensor where the first dimension is batch size.\n",
    "    : num_outputs: The number of output that the new tensor should be.\n",
    "    : return: A 2-D tensor where the second dimension is num_outputs.\n",
    "    \"\"\"\n",
    "    # TODO: Implement Function\n",
    "    x_size = x_tensor.get_shape().as_list()[1]\n",
    "    weight = tf.Variable(tf.truncated_normal([x_size, num_outputs], stddev=0.1))\n",
    "    bias = tf.Variable(tf.zeros(num_outputs))\n",
    "    \n",
    "    return tf.add(tf.matmul(x_tensor, weight), bias)\n",
    "\n",
    "\n",
    "\"\"\"\n",
    "DON'T MODIFY ANYTHING IN THIS CELL THAT IS BELOW THIS LINE\n",
    "\"\"\"\n",
    "tests.test_output(output)"
   ]
  },
  {
   "cell_type": "markdown",
   "metadata": {
    "deletable": true,
    "editable": true
   },
   "source": [
    "### Create Convolutional Model\n",
    "Implement the function `conv_net` to create a convolutional neural network model. The function takes in a batch of images, `x`, and outputs logits.  Use the layers you created above to create this model:\n",
    "\n",
    "* Apply 1, 2, or 3 Convolution and Max Pool layers\n",
    "* Apply a Flatten Layer\n",
    "* Apply 1, 2, or 3 Fully Connected Layers\n",
    "* Apply an Output Layer\n",
    "* Return the output\n",
    "* Apply [TensorFlow's Dropout](https://www.tensorflow.org/api_docs/python/tf/nn/dropout) to one or more layers in the model using `keep_prob`. "
   ]
  },
  {
   "cell_type": "code",
   "execution_count": 7,
   "metadata": {
    "collapsed": false,
    "deletable": true,
    "editable": true
   },
   "outputs": [
    {
     "name": "stdout",
     "output_type": "stream",
     "text": [
      "Neural Network Built!\n"
     ]
    }
   ],
   "source": [
    "def conv_net(x, keep_prob):\n",
    "    \"\"\"\n",
    "    Create a convolutional neural network model\n",
    "    : x: Placeholder tensor that holds image data.\n",
    "    : keep_prob: Placeholder tensor that hold dropout keep probability.\n",
    "    : return: Tensor that represents logits\n",
    "    \"\"\"\n",
    "    # TODO: Apply 1, 2, or 3 Convolution and Max Pool layers\n",
    "    #    Play around with different number of outputs, kernel size and stride\n",
    "    # Function Definition from Above:\n",
    "    #    conv2d_maxpool(x_tensor, conv_num_outputs, conv_ksize, conv_strides, pool_ksize, pool_strides)\n",
    "    x_tensor = x\n",
    "    x_tensor = conv2d_maxpool(x_tensor, 16, (5, 5), (1, 1), (2, 2), (2, 2))\n",
    "    x_tensor = conv2d_maxpool(x_tensor, 32, (3, 3), (1, 1), (2, 2), (2, 2))\n",
    "    x_tensor = conv2d_maxpool(x_tensor, 64, (3, 3), (1, 1), (2, 2), (2, 2))\n",
    "    \n",
    "\n",
    "    # TODO: Apply a Flatten Layer\n",
    "    # Function Definition from Above:\n",
    "    #   flatten(x_tensor)\n",
    "    x_tensor = flatten(x_tensor)\n",
    "    \n",
    "\n",
    "    # TODO: Apply 1, 2, or 3 Fully Connected Layers\n",
    "    #    Play around with different number of outputs\n",
    "    # Function Definition from Above:\n",
    "    #   fully_conn(x_tensor, num_outputs)\n",
    "    x_tensor = fully_conn(x_tensor, 1024)\n",
    "    x_tensor = tf.nn.dropout(x_tensor, keep_prob=keep_prob)\n",
    "    x_tensor = fully_conn(x_tensor, 256)\n",
    "    x_tensor = tf.nn.dropout(x_tensor, keep_prob=keep_prob)\n",
    "    x_tensor = fully_conn(x_tensor, 64)\n",
    "    x_tensor = tf.nn.dropout(x_tensor, keep_prob=keep_prob)\n",
    "    \n",
    "    # TODO: Apply an Output Layer\n",
    "    #    Set this to the number of classes\n",
    "    # Function Definition from Above:\n",
    "    #   output(x_tensor, num_outputs)\n",
    "    x_tensor = output(x_tensor, 10)\n",
    "    \n",
    "    \n",
    "    # TODO: return output\n",
    "    return x_tensor\n",
    "\n",
    "\n",
    "\"\"\"\n",
    "DON'T MODIFY ANYTHING IN THIS CELL THAT IS BELOW THIS LINE\n",
    "\"\"\"\n",
    "\n",
    "##############################\n",
    "## Build the Neural Network ##\n",
    "##############################\n",
    "\n",
    "# Remove previous weights, bias, inputs, etc..\n",
    "tf.reset_default_graph()\n",
    "\n",
    "# Inputs\n",
    "x = neural_net_image_input((32, 32, 3))\n",
    "y = neural_net_label_input(10)\n",
    "keep_prob = neural_net_keep_prob_input()\n",
    "\n",
    "# Model\n",
    "logits = conv_net(x, keep_prob)\n",
    "\n",
    "# Name logits Tensor, so that is can be loaded from disk after training\n",
    "logits = tf.identity(logits, name='logits')\n",
    "\n",
    "# Loss and Optimizer\n",
    "cost = tf.reduce_mean(tf.nn.softmax_cross_entropy_with_logits(logits=logits, labels=y))\n",
    "optimizer = tf.train.AdamOptimizer().minimize(cost)\n",
    "\n",
    "# Accuracy\n",
    "correct_pred = tf.equal(tf.argmax(logits, 1), tf.argmax(y, 1))\n",
    "accuracy = tf.reduce_mean(tf.cast(correct_pred, tf.float32), name='accuracy')\n",
    "\n",
    "tests.test_conv_net(conv_net)"
   ]
  },
  {
   "cell_type": "markdown",
   "metadata": {
    "deletable": true,
    "editable": true
   },
   "source": [
    "## Train the Neural Network\n",
    "### Single Optimization\n",
    "Implement the function `train_neural_network` to do a single optimization.  The optimization should use `optimizer` to optimize in `session` with a `feed_dict` of the following:\n",
    "* `x` for image input\n",
    "* `y` for labels\n",
    "* `keep_prob` for keep probability for dropout\n",
    "\n",
    "This function will be called for each batch, so `tf.global_variables_initializer()` has already been called.\n",
    "\n",
    "Note: Nothing needs to be returned. This function is only optimizing the neural network."
   ]
  },
  {
   "cell_type": "code",
   "execution_count": 8,
   "metadata": {
    "collapsed": false,
    "deletable": true,
    "editable": true
   },
   "outputs": [
    {
     "name": "stdout",
     "output_type": "stream",
     "text": [
      "Tests Passed\n"
     ]
    }
   ],
   "source": [
    "def train_neural_network(session, optimizer, keep_probability, feature_batch, label_batch):\n",
    "    \"\"\"\n",
    "    Optimize the session on a batch of images and labels\n",
    "    : session: Current TensorFlow session\n",
    "    : optimizer: TensorFlow optimizer function\n",
    "    : keep_probability: keep probability\n",
    "    : feature_batch: Batch of Numpy image data\n",
    "    : label_batch: Batch of Numpy label data\n",
    "    \"\"\"\n",
    "    # TODO: Implement Function\n",
    "    session.run(optimizer, feed_dict={x: feature_batch, y: label_batch, keep_prob: keep_probability})\n",
    "\n",
    "\n",
    "\"\"\"\n",
    "DON'T MODIFY ANYTHING IN THIS CELL THAT IS BELOW THIS LINE\n",
    "\"\"\"\n",
    "tests.test_train_nn(train_neural_network)"
   ]
  },
  {
   "cell_type": "markdown",
   "metadata": {
    "deletable": true,
    "editable": true
   },
   "source": [
    "### Show Stats\n",
    "Implement the function `print_stats` to print loss and validation accuracy.  Use the global variables `valid_features` and `valid_labels` to calculate validation accuracy.  Use a keep probability of `1.0` to calculate the loss and validation accuracy."
   ]
  },
  {
   "cell_type": "code",
   "execution_count": 9,
   "metadata": {
    "collapsed": false,
    "deletable": true,
    "editable": true
   },
   "outputs": [],
   "source": [
    "def print_stats(session, feature_batch, label_batch, cost, accuracy):\n",
    "    \"\"\"\n",
    "    Print information about loss and validation accuracy\n",
    "    : session: Current TensorFlow session\n",
    "    : feature_batch: Batch of Numpy image data\n",
    "    : label_batch: Batch of Numpy label data\n",
    "    : cost: TensorFlow cost function\n",
    "    : accuracy: TensorFlow accuracy function\n",
    "    \"\"\"\n",
    "    # TODO: Implement Function\n",
    "    loss = sess.run(cost, feed_dict={x: feature_batch, y: label_batch, keep_prob: 1.})\n",
    "    valid_acc = sess.run(accuracy, feed_dict={x: valid_features, y: valid_labels, keep_prob: 1.})\n",
    "    print('Loss: {:>10.4f} Validation Accuracy: {:.6f}'.format(loss, valid_acc))"
   ]
  },
  {
   "cell_type": "markdown",
   "metadata": {
    "deletable": true,
    "editable": true
   },
   "source": [
    "### Hyperparameters\n",
    "Tune the following parameters:\n",
    "* Set `epochs` to the number of iterations until the network stops learning or start overfitting\n",
    "* Set `batch_size` to the highest number that your machine has memory for.  Most people set them to common sizes of memory:\n",
    " * 64\n",
    " * 128\n",
    " * 256\n",
    " * ...\n",
    "* Set `keep_probability` to the probability of keeping a node using dropout"
   ]
  },
  {
   "cell_type": "code",
   "execution_count": 10,
   "metadata": {
    "collapsed": true,
    "deletable": true,
    "editable": true
   },
   "outputs": [],
   "source": [
    "# TODO: Tune Parameters\n",
    "epochs = 100\n",
    "batch_size = 4096\n",
    "keep_probability = 0.5"
   ]
  },
  {
   "cell_type": "markdown",
   "metadata": {
    "deletable": true,
    "editable": true
   },
   "source": [
    "### Train on a Single CIFAR-10 Batch\n",
    "Instead of training the neural network on all the CIFAR-10 batches of data, let's use a single batch. This should save time while you iterate on the model to get a better accuracy.  Once the final validation accuracy is 50% or greater, run the model on all the data in the next section."
   ]
  },
  {
   "cell_type": "code",
   "execution_count": 37,
   "metadata": {
    "collapsed": false,
    "deletable": true,
    "editable": true
   },
   "outputs": [
    {
     "name": "stdout",
     "output_type": "stream",
     "text": [
      "Checking the Training on a Single Batch...\n",
      "Epoch  1, CIFAR-10 Batch 1:  Loss:     2.2997 Validation Accuracy: 0.107600\n",
      "Epoch  2, CIFAR-10 Batch 1:  Loss:     2.3000 Validation Accuracy: 0.122400\n",
      "Epoch  3, CIFAR-10 Batch 1:  Loss:     2.3005 Validation Accuracy: 0.123400\n",
      "Epoch  4, CIFAR-10 Batch 1:  Loss:     2.3002 Validation Accuracy: 0.101000\n",
      "Epoch  5, CIFAR-10 Batch 1:  Loss:     2.3001 Validation Accuracy: 0.111000\n",
      "Epoch  6, CIFAR-10 Batch 1:  Loss:     2.2997 Validation Accuracy: 0.129400\n",
      "Epoch  7, CIFAR-10 Batch 1:  Loss:     2.2977 Validation Accuracy: 0.144600\n",
      "Epoch  8, CIFAR-10 Batch 1:  Loss:     2.2940 Validation Accuracy: 0.146400\n",
      "Epoch  9, CIFAR-10 Batch 1:  Loss:     2.2891 Validation Accuracy: 0.135000\n",
      "Epoch 10, CIFAR-10 Batch 1:  Loss:     2.2850 Validation Accuracy: 0.120400\n",
      "Epoch 11, CIFAR-10 Batch 1:  Loss:     2.2799 Validation Accuracy: 0.117000\n",
      "Epoch 12, CIFAR-10 Batch 1:  Loss:     2.2731 Validation Accuracy: 0.122800\n",
      "Epoch 13, CIFAR-10 Batch 1:  Loss:     2.2627 Validation Accuracy: 0.134000\n",
      "Epoch 14, CIFAR-10 Batch 1:  Loss:     2.2499 Validation Accuracy: 0.154000\n",
      "Epoch 15, CIFAR-10 Batch 1:  Loss:     2.2320 Validation Accuracy: 0.165600\n",
      "Epoch 16, CIFAR-10 Batch 1:  Loss:     2.2061 Validation Accuracy: 0.184600\n",
      "Epoch 17, CIFAR-10 Batch 1:  Loss:     2.1757 Validation Accuracy: 0.198000\n",
      "Epoch 18, CIFAR-10 Batch 1:  Loss:     2.1431 Validation Accuracy: 0.201400\n",
      "Epoch 19, CIFAR-10 Batch 1:  Loss:     2.1142 Validation Accuracy: 0.214800\n",
      "Epoch 20, CIFAR-10 Batch 1:  Loss:     2.1132 Validation Accuracy: 0.224800\n",
      "Epoch 21, CIFAR-10 Batch 1:  Loss:     2.0798 Validation Accuracy: 0.227800\n",
      "Epoch 22, CIFAR-10 Batch 1:  Loss:     2.0497 Validation Accuracy: 0.242800\n",
      "Epoch 23, CIFAR-10 Batch 1:  Loss:     2.0173 Validation Accuracy: 0.263000\n",
      "Epoch 24, CIFAR-10 Batch 1:  Loss:     1.9820 Validation Accuracy: 0.275000\n",
      "Epoch 25, CIFAR-10 Batch 1:  Loss:     1.9333 Validation Accuracy: 0.288200\n",
      "Epoch 26, CIFAR-10 Batch 1:  Loss:     1.9124 Validation Accuracy: 0.298400\n",
      "Epoch 27, CIFAR-10 Batch 1:  Loss:     1.8948 Validation Accuracy: 0.309600\n",
      "Epoch 28, CIFAR-10 Batch 1:  Loss:     1.8691 Validation Accuracy: 0.317400\n",
      "Epoch 29, CIFAR-10 Batch 1:  Loss:     1.8079 Validation Accuracy: 0.340600\n",
      "Epoch 30, CIFAR-10 Batch 1:  Loss:     1.7617 Validation Accuracy: 0.346000\n",
      "Epoch 31, CIFAR-10 Batch 1:  Loss:     1.7367 Validation Accuracy: 0.361400\n",
      "Epoch 32, CIFAR-10 Batch 1:  Loss:     1.7045 Validation Accuracy: 0.376400\n",
      "Epoch 33, CIFAR-10 Batch 1:  Loss:     1.6901 Validation Accuracy: 0.369400\n",
      "Epoch 34, CIFAR-10 Batch 1:  Loss:     1.6705 Validation Accuracy: 0.363400\n",
      "Epoch 35, CIFAR-10 Batch 1:  Loss:     1.6136 Validation Accuracy: 0.381400\n",
      "Epoch 36, CIFAR-10 Batch 1:  Loss:     1.5884 Validation Accuracy: 0.366800\n",
      "Epoch 37, CIFAR-10 Batch 1:  Loss:     1.5665 Validation Accuracy: 0.397200\n",
      "Epoch 38, CIFAR-10 Batch 1:  Loss:     1.5212 Validation Accuracy: 0.404400\n",
      "Epoch 39, CIFAR-10 Batch 1:  Loss:     1.4890 Validation Accuracy: 0.402800\n",
      "Epoch 40, CIFAR-10 Batch 1:  Loss:     1.4664 Validation Accuracy: 0.412400\n",
      "Epoch 41, CIFAR-10 Batch 1:  Loss:     1.4429 Validation Accuracy: 0.416400\n",
      "Epoch 42, CIFAR-10 Batch 1:  Loss:     1.4349 Validation Accuracy: 0.416600\n",
      "Epoch 43, CIFAR-10 Batch 1:  Loss:     1.3902 Validation Accuracy: 0.427600\n",
      "Epoch 44, CIFAR-10 Batch 1:  Loss:     1.3668 Validation Accuracy: 0.432600\n",
      "Epoch 45, CIFAR-10 Batch 1:  Loss:     1.3404 Validation Accuracy: 0.441000\n",
      "Epoch 46, CIFAR-10 Batch 1:  Loss:     1.3293 Validation Accuracy: 0.431200\n",
      "Epoch 47, CIFAR-10 Batch 1:  Loss:     1.3065 Validation Accuracy: 0.441600\n",
      "Epoch 48, CIFAR-10 Batch 1:  Loss:     1.2935 Validation Accuracy: 0.445400\n",
      "Epoch 49, CIFAR-10 Batch 1:  Loss:     1.2556 Validation Accuracy: 0.448600\n",
      "Epoch 50, CIFAR-10 Batch 1:  Loss:     1.2097 Validation Accuracy: 0.462200\n",
      "Epoch 51, CIFAR-10 Batch 1:  Loss:     1.1837 Validation Accuracy: 0.458000\n",
      "Epoch 52, CIFAR-10 Batch 1:  Loss:     1.2003 Validation Accuracy: 0.449200\n",
      "Epoch 53, CIFAR-10 Batch 1:  Loss:     1.1541 Validation Accuracy: 0.464000\n",
      "Epoch 54, CIFAR-10 Batch 1:  Loss:     1.1591 Validation Accuracy: 0.459800\n",
      "Epoch 55, CIFAR-10 Batch 1:  Loss:     1.0907 Validation Accuracy: 0.465600\n",
      "Epoch 56, CIFAR-10 Batch 1:  Loss:     1.0666 Validation Accuracy: 0.476000\n",
      "Epoch 57, CIFAR-10 Batch 1:  Loss:     1.0469 Validation Accuracy: 0.476200\n",
      "Epoch 58, CIFAR-10 Batch 1:  Loss:     1.0346 Validation Accuracy: 0.481400\n",
      "Epoch 59, CIFAR-10 Batch 1:  Loss:     0.9996 Validation Accuracy: 0.481200\n",
      "Epoch 60, CIFAR-10 Batch 1:  Loss:     0.9721 Validation Accuracy: 0.490800\n",
      "Epoch 61, CIFAR-10 Batch 1:  Loss:     0.9433 Validation Accuracy: 0.487800\n",
      "Epoch 62, CIFAR-10 Batch 1:  Loss:     0.9229 Validation Accuracy: 0.487800\n",
      "Epoch 63, CIFAR-10 Batch 1:  Loss:     0.9114 Validation Accuracy: 0.490800\n",
      "Epoch 64, CIFAR-10 Batch 1:  Loss:     0.8918 Validation Accuracy: 0.491200\n",
      "Epoch 65, CIFAR-10 Batch 1:  Loss:     0.8669 Validation Accuracy: 0.494800\n",
      "Epoch 66, CIFAR-10 Batch 1:  Loss:     0.8573 Validation Accuracy: 0.495200\n",
      "Epoch 67, CIFAR-10 Batch 1:  Loss:     0.8175 Validation Accuracy: 0.501400\n",
      "Epoch 68, CIFAR-10 Batch 1:  Loss:     0.7952 Validation Accuracy: 0.504200\n",
      "Epoch 69, CIFAR-10 Batch 1:  Loss:     0.7770 Validation Accuracy: 0.505800\n",
      "Epoch 70, CIFAR-10 Batch 1:  Loss:     0.7467 Validation Accuracy: 0.509400\n",
      "Epoch 71, CIFAR-10 Batch 1:  Loss:     0.7411 Validation Accuracy: 0.509600\n",
      "Epoch 72, CIFAR-10 Batch 1:  Loss:     0.7204 Validation Accuracy: 0.509000\n",
      "Epoch 73, CIFAR-10 Batch 1:  Loss:     0.7178 Validation Accuracy: 0.506400\n",
      "Epoch 74, CIFAR-10 Batch 1:  Loss:     0.6763 Validation Accuracy: 0.514400\n",
      "Epoch 75, CIFAR-10 Batch 1:  Loss:     0.6575 Validation Accuracy: 0.517000\n",
      "Epoch 76, CIFAR-10 Batch 1:  Loss:     0.6397 Validation Accuracy: 0.516200\n",
      "Epoch 77, CIFAR-10 Batch 1:  Loss:     0.6147 Validation Accuracy: 0.522600\n",
      "Epoch 78, CIFAR-10 Batch 1:  Loss:     0.5884 Validation Accuracy: 0.529600\n",
      "Epoch 79, CIFAR-10 Batch 1:  Loss:     0.5870 Validation Accuracy: 0.509600\n",
      "Epoch 80, CIFAR-10 Batch 1:  Loss:     0.5674 Validation Accuracy: 0.529800\n",
      "Epoch 81, CIFAR-10 Batch 1:  Loss:     0.5513 Validation Accuracy: 0.526800\n",
      "Epoch 82, CIFAR-10 Batch 1:  Loss:     0.5292 Validation Accuracy: 0.533200\n",
      "Epoch 83, CIFAR-10 Batch 1:  Loss:     0.5231 Validation Accuracy: 0.531800\n",
      "Epoch 84, CIFAR-10 Batch 1:  Loss:     0.4991 Validation Accuracy: 0.529600\n",
      "Epoch 85, CIFAR-10 Batch 1:  Loss:     0.4669 Validation Accuracy: 0.540400\n",
      "Epoch 86, CIFAR-10 Batch 1:  Loss:     0.4572 Validation Accuracy: 0.532200\n",
      "Epoch 87, CIFAR-10 Batch 1:  Loss:     0.4540 Validation Accuracy: 0.529600\n",
      "Epoch 88, CIFAR-10 Batch 1:  Loss:     0.4431 Validation Accuracy: 0.539800\n",
      "Epoch 89, CIFAR-10 Batch 1:  Loss:     0.4226 Validation Accuracy: 0.535200\n",
      "Epoch 90, CIFAR-10 Batch 1:  Loss:     0.3942 Validation Accuracy: 0.539200\n",
      "Epoch 91, CIFAR-10 Batch 1:  Loss:     0.3885 Validation Accuracy: 0.540600\n",
      "Epoch 92, CIFAR-10 Batch 1:  Loss:     0.4022 Validation Accuracy: 0.526200\n",
      "Epoch 93, CIFAR-10 Batch 1:  Loss:     0.3789 Validation Accuracy: 0.541400\n",
      "Epoch 94, CIFAR-10 Batch 1:  Loss:     0.3718 Validation Accuracy: 0.533000\n",
      "Epoch 95, CIFAR-10 Batch 1:  Loss:     0.3448 Validation Accuracy: 0.544400\n",
      "Epoch 96, CIFAR-10 Batch 1:  Loss:     0.3434 Validation Accuracy: 0.543400\n",
      "Epoch 97, CIFAR-10 Batch 1:  Loss:     0.3280 Validation Accuracy: 0.543600\n",
      "Epoch 98, CIFAR-10 Batch 1:  Loss:     0.3076 Validation Accuracy: 0.546000\n",
      "Epoch 99, CIFAR-10 Batch 1:  Loss:     0.2946 Validation Accuracy: 0.548800\n",
      "Epoch 100, CIFAR-10 Batch 1:  Loss:     0.2783 Validation Accuracy: 0.547400\n"
     ]
    }
   ],
   "source": [
    "\"\"\"\n",
    "DON'T MODIFY ANYTHING IN THIS CELL\n",
    "\"\"\"\n",
    "print('Checking the Training on a Single Batch...')\n",
    "with tf.Session() as sess:\n",
    "    # Initializing the variables\n",
    "    sess.run(tf.global_variables_initializer())\n",
    "    \n",
    "    # Training cycle\n",
    "    for epoch in range(epochs):\n",
    "        batch_i = 1\n",
    "        for batch_features, batch_labels in helper.load_preprocess_training_batch(batch_i, batch_size):\n",
    "            train_neural_network(sess, optimizer, keep_probability, batch_features, batch_labels)\n",
    "        print('Epoch {:>2}, CIFAR-10 Batch {}:  '.format(epoch + 1, batch_i), end='')\n",
    "        print_stats(sess, batch_features, batch_labels, cost, accuracy)"
   ]
  },
  {
   "cell_type": "markdown",
   "metadata": {
    "deletable": true,
    "editable": true
   },
   "source": [
    "### Fully Train the Model\n",
    "Now that you got a good accuracy with a single CIFAR-10 batch, try it with all five batches."
   ]
  },
  {
   "cell_type": "code",
   "execution_count": 11,
   "metadata": {
    "collapsed": false,
    "deletable": true,
    "editable": true
   },
   "outputs": [
    {
     "name": "stdout",
     "output_type": "stream",
     "text": [
      "Training...\n",
      "Epoch  1, CIFAR-10 Batch 1:  Loss:     2.3017 Validation Accuracy: 0.118800\n",
      "Epoch  1, CIFAR-10 Batch 2:  Loss:     2.2989 Validation Accuracy: 0.127000\n",
      "Epoch  1, CIFAR-10 Batch 3:  Loss:     2.3012 Validation Accuracy: 0.119200\n",
      "Epoch  1, CIFAR-10 Batch 4:  Loss:     2.3013 Validation Accuracy: 0.121800\n",
      "Epoch  1, CIFAR-10 Batch 5:  Loss:     2.3008 Validation Accuracy: 0.133200\n",
      "Epoch  2, CIFAR-10 Batch 1:  Loss:     2.2981 Validation Accuracy: 0.150400\n",
      "Epoch  2, CIFAR-10 Batch 2:  Loss:     2.2932 Validation Accuracy: 0.168600\n",
      "Epoch  2, CIFAR-10 Batch 3:  Loss:     2.2870 Validation Accuracy: 0.149800\n",
      "Epoch  2, CIFAR-10 Batch 4:  Loss:     2.2789 Validation Accuracy: 0.140600\n",
      "Epoch  2, CIFAR-10 Batch 5:  Loss:     2.2671 Validation Accuracy: 0.161200\n",
      "Epoch  3, CIFAR-10 Batch 1:  Loss:     2.2534 Validation Accuracy: 0.196000\n",
      "Epoch  3, CIFAR-10 Batch 2:  Loss:     2.2259 Validation Accuracy: 0.205800\n",
      "Epoch  3, CIFAR-10 Batch 3:  Loss:     2.1991 Validation Accuracy: 0.221000\n",
      "Epoch  3, CIFAR-10 Batch 4:  Loss:     2.1499 Validation Accuracy: 0.213200\n",
      "Epoch  3, CIFAR-10 Batch 5:  Loss:     2.1059 Validation Accuracy: 0.203400\n",
      "Epoch  4, CIFAR-10 Batch 1:  Loss:     2.0973 Validation Accuracy: 0.228200\n",
      "Epoch  4, CIFAR-10 Batch 2:  Loss:     2.0586 Validation Accuracy: 0.254800\n",
      "Epoch  4, CIFAR-10 Batch 3:  Loss:     2.0783 Validation Accuracy: 0.245400\n",
      "Epoch  4, CIFAR-10 Batch 4:  Loss:     2.0089 Validation Accuracy: 0.260600\n",
      "Epoch  4, CIFAR-10 Batch 5:  Loss:     1.9898 Validation Accuracy: 0.282800\n",
      "Epoch  5, CIFAR-10 Batch 1:  Loss:     1.9582 Validation Accuracy: 0.304800\n",
      "Epoch  5, CIFAR-10 Batch 2:  Loss:     1.8977 Validation Accuracy: 0.314600\n",
      "Epoch  5, CIFAR-10 Batch 3:  Loss:     1.8851 Validation Accuracy: 0.332000\n",
      "Epoch  5, CIFAR-10 Batch 4:  Loss:     1.8432 Validation Accuracy: 0.337000\n",
      "Epoch  5, CIFAR-10 Batch 5:  Loss:     1.8491 Validation Accuracy: 0.358200\n",
      "Epoch  6, CIFAR-10 Batch 1:  Loss:     1.8322 Validation Accuracy: 0.358400\n",
      "Epoch  6, CIFAR-10 Batch 2:  Loss:     1.7736 Validation Accuracy: 0.363800\n",
      "Epoch  6, CIFAR-10 Batch 3:  Loss:     1.7411 Validation Accuracy: 0.365000\n",
      "Epoch  6, CIFAR-10 Batch 4:  Loss:     1.7148 Validation Accuracy: 0.361200\n",
      "Epoch  6, CIFAR-10 Batch 5:  Loss:     1.7354 Validation Accuracy: 0.375600\n",
      "Epoch  7, CIFAR-10 Batch 1:  Loss:     1.7154 Validation Accuracy: 0.393600\n",
      "Epoch  7, CIFAR-10 Batch 2:  Loss:     1.7119 Validation Accuracy: 0.360600\n",
      "Epoch  7, CIFAR-10 Batch 3:  Loss:     1.6493 Validation Accuracy: 0.379400\n",
      "Epoch  7, CIFAR-10 Batch 4:  Loss:     1.6434 Validation Accuracy: 0.363800\n",
      "Epoch  7, CIFAR-10 Batch 5:  Loss:     1.6477 Validation Accuracy: 0.398800\n",
      "Epoch  8, CIFAR-10 Batch 1:  Loss:     1.6227 Validation Accuracy: 0.399600\n",
      "Epoch  8, CIFAR-10 Batch 2:  Loss:     1.6105 Validation Accuracy: 0.413000\n",
      "Epoch  8, CIFAR-10 Batch 3:  Loss:     1.5621 Validation Accuracy: 0.404400\n",
      "Epoch  8, CIFAR-10 Batch 4:  Loss:     1.5573 Validation Accuracy: 0.408000\n",
      "Epoch  8, CIFAR-10 Batch 5:  Loss:     1.5679 Validation Accuracy: 0.406200\n",
      "Epoch  9, CIFAR-10 Batch 1:  Loss:     1.5409 Validation Accuracy: 0.431600\n",
      "Epoch  9, CIFAR-10 Batch 2:  Loss:     1.5330 Validation Accuracy: 0.430000\n",
      "Epoch  9, CIFAR-10 Batch 3:  Loss:     1.4736 Validation Accuracy: 0.431000\n",
      "Epoch  9, CIFAR-10 Batch 4:  Loss:     1.4792 Validation Accuracy: 0.429600\n",
      "Epoch  9, CIFAR-10 Batch 5:  Loss:     1.4922 Validation Accuracy: 0.425400\n",
      "Epoch 10, CIFAR-10 Batch 1:  Loss:     1.4697 Validation Accuracy: 0.450200\n",
      "Epoch 10, CIFAR-10 Batch 2:  Loss:     1.4852 Validation Accuracy: 0.450400\n",
      "Epoch 10, CIFAR-10 Batch 3:  Loss:     1.4336 Validation Accuracy: 0.462200\n",
      "Epoch 10, CIFAR-10 Batch 4:  Loss:     1.4253 Validation Accuracy: 0.456400\n",
      "Epoch 10, CIFAR-10 Batch 5:  Loss:     1.4367 Validation Accuracy: 0.472000\n",
      "Epoch 11, CIFAR-10 Batch 1:  Loss:     1.3962 Validation Accuracy: 0.471400\n",
      "Epoch 11, CIFAR-10 Batch 2:  Loss:     1.4190 Validation Accuracy: 0.469600\n",
      "Epoch 11, CIFAR-10 Batch 3:  Loss:     1.3747 Validation Accuracy: 0.467200\n",
      "Epoch 11, CIFAR-10 Batch 4:  Loss:     1.3743 Validation Accuracy: 0.466600\n",
      "Epoch 11, CIFAR-10 Batch 5:  Loss:     1.3843 Validation Accuracy: 0.478200\n",
      "Epoch 12, CIFAR-10 Batch 1:  Loss:     1.3602 Validation Accuracy: 0.477000\n",
      "Epoch 12, CIFAR-10 Batch 2:  Loss:     1.3572 Validation Accuracy: 0.481400\n",
      "Epoch 12, CIFAR-10 Batch 3:  Loss:     1.3023 Validation Accuracy: 0.487800\n",
      "Epoch 12, CIFAR-10 Batch 4:  Loss:     1.3013 Validation Accuracy: 0.492600\n",
      "Epoch 12, CIFAR-10 Batch 5:  Loss:     1.2998 Validation Accuracy: 0.494400\n",
      "Epoch 13, CIFAR-10 Batch 1:  Loss:     1.2992 Validation Accuracy: 0.492400\n",
      "Epoch 13, CIFAR-10 Batch 2:  Loss:     1.3250 Validation Accuracy: 0.490400\n",
      "Epoch 13, CIFAR-10 Batch 3:  Loss:     1.2561 Validation Accuracy: 0.497200\n",
      "Epoch 13, CIFAR-10 Batch 4:  Loss:     1.2769 Validation Accuracy: 0.492800\n",
      "Epoch 13, CIFAR-10 Batch 5:  Loss:     1.2658 Validation Accuracy: 0.501000\n",
      "Epoch 14, CIFAR-10 Batch 1:  Loss:     1.2566 Validation Accuracy: 0.504000\n",
      "Epoch 14, CIFAR-10 Batch 2:  Loss:     1.2569 Validation Accuracy: 0.512600\n",
      "Epoch 14, CIFAR-10 Batch 3:  Loss:     1.1905 Validation Accuracy: 0.513600\n",
      "Epoch 14, CIFAR-10 Batch 4:  Loss:     1.2114 Validation Accuracy: 0.512200\n",
      "Epoch 14, CIFAR-10 Batch 5:  Loss:     1.1980 Validation Accuracy: 0.514400\n",
      "Epoch 15, CIFAR-10 Batch 1:  Loss:     1.1915 Validation Accuracy: 0.521200\n",
      "Epoch 15, CIFAR-10 Batch 2:  Loss:     1.2086 Validation Accuracy: 0.521400\n",
      "Epoch 15, CIFAR-10 Batch 3:  Loss:     1.1637 Validation Accuracy: 0.519000\n",
      "Epoch 15, CIFAR-10 Batch 4:  Loss:     1.1655 Validation Accuracy: 0.525200\n",
      "Epoch 15, CIFAR-10 Batch 5:  Loss:     1.1630 Validation Accuracy: 0.526600\n",
      "Epoch 16, CIFAR-10 Batch 1:  Loss:     1.1435 Validation Accuracy: 0.527000\n",
      "Epoch 16, CIFAR-10 Batch 2:  Loss:     1.1546 Validation Accuracy: 0.530800\n",
      "Epoch 16, CIFAR-10 Batch 3:  Loss:     1.1053 Validation Accuracy: 0.527400\n",
      "Epoch 16, CIFAR-10 Batch 4:  Loss:     1.1023 Validation Accuracy: 0.537800\n",
      "Epoch 16, CIFAR-10 Batch 5:  Loss:     1.0911 Validation Accuracy: 0.541000\n",
      "Epoch 17, CIFAR-10 Batch 1:  Loss:     1.0965 Validation Accuracy: 0.538400\n",
      "Epoch 17, CIFAR-10 Batch 2:  Loss:     1.1143 Validation Accuracy: 0.540000\n",
      "Epoch 17, CIFAR-10 Batch 3:  Loss:     1.0538 Validation Accuracy: 0.538600\n",
      "Epoch 17, CIFAR-10 Batch 4:  Loss:     1.0603 Validation Accuracy: 0.545200\n",
      "Epoch 17, CIFAR-10 Batch 5:  Loss:     1.0595 Validation Accuracy: 0.546600\n",
      "Epoch 18, CIFAR-10 Batch 1:  Loss:     1.0713 Validation Accuracy: 0.536200\n",
      "Epoch 18, CIFAR-10 Batch 2:  Loss:     1.0961 Validation Accuracy: 0.544400\n",
      "Epoch 18, CIFAR-10 Batch 3:  Loss:     1.0501 Validation Accuracy: 0.535400\n",
      "Epoch 18, CIFAR-10 Batch 4:  Loss:     1.0319 Validation Accuracy: 0.544000\n",
      "Epoch 18, CIFAR-10 Batch 5:  Loss:     1.0259 Validation Accuracy: 0.548600\n",
      "Epoch 19, CIFAR-10 Batch 1:  Loss:     1.0157 Validation Accuracy: 0.557800\n",
      "Epoch 19, CIFAR-10 Batch 2:  Loss:     1.0498 Validation Accuracy: 0.550800\n",
      "Epoch 19, CIFAR-10 Batch 3:  Loss:     0.9891 Validation Accuracy: 0.554400\n",
      "Epoch 19, CIFAR-10 Batch 4:  Loss:     0.9715 Validation Accuracy: 0.551200\n",
      "Epoch 19, CIFAR-10 Batch 5:  Loss:     0.9522 Validation Accuracy: 0.557200\n",
      "Epoch 20, CIFAR-10 Batch 1:  Loss:     0.9752 Validation Accuracy: 0.555400\n",
      "Epoch 20, CIFAR-10 Batch 2:  Loss:     1.0154 Validation Accuracy: 0.561000\n",
      "Epoch 20, CIFAR-10 Batch 3:  Loss:     0.9375 Validation Accuracy: 0.569400\n",
      "Epoch 20, CIFAR-10 Batch 4:  Loss:     0.9230 Validation Accuracy: 0.571200\n",
      "Epoch 20, CIFAR-10 Batch 5:  Loss:     0.9059 Validation Accuracy: 0.567000\n",
      "Epoch 21, CIFAR-10 Batch 1:  Loss:     0.9404 Validation Accuracy: 0.561200\n",
      "Epoch 21, CIFAR-10 Batch 2:  Loss:     0.9698 Validation Accuracy: 0.571000\n",
      "Epoch 21, CIFAR-10 Batch 3:  Loss:     0.9049 Validation Accuracy: 0.564600\n",
      "Epoch 21, CIFAR-10 Batch 4:  Loss:     0.9210 Validation Accuracy: 0.564600\n",
      "Epoch 21, CIFAR-10 Batch 5:  Loss:     0.8631 Validation Accuracy: 0.577200\n",
      "Epoch 22, CIFAR-10 Batch 1:  Loss:     0.8886 Validation Accuracy: 0.576400\n",
      "Epoch 22, CIFAR-10 Batch 2:  Loss:     0.9153 Validation Accuracy: 0.579600\n",
      "Epoch 22, CIFAR-10 Batch 3:  Loss:     0.8751 Validation Accuracy: 0.583200\n",
      "Epoch 22, CIFAR-10 Batch 4:  Loss:     0.8568 Validation Accuracy: 0.577800\n",
      "Epoch 22, CIFAR-10 Batch 5:  Loss:     0.8258 Validation Accuracy: 0.580200\n",
      "Epoch 23, CIFAR-10 Batch 1:  Loss:     0.8662 Validation Accuracy: 0.574800\n",
      "Epoch 23, CIFAR-10 Batch 2:  Loss:     0.8764 Validation Accuracy: 0.583600\n",
      "Epoch 23, CIFAR-10 Batch 3:  Loss:     0.8344 Validation Accuracy: 0.586800\n",
      "Epoch 23, CIFAR-10 Batch 4:  Loss:     0.8136 Validation Accuracy: 0.590600\n",
      "Epoch 23, CIFAR-10 Batch 5:  Loss:     0.7810 Validation Accuracy: 0.589400\n",
      "Epoch 24, CIFAR-10 Batch 1:  Loss:     0.8313 Validation Accuracy: 0.585600\n",
      "Epoch 24, CIFAR-10 Batch 2:  Loss:     0.8626 Validation Accuracy: 0.585200\n",
      "Epoch 24, CIFAR-10 Batch 3:  Loss:     0.8103 Validation Accuracy: 0.588200\n",
      "Epoch 24, CIFAR-10 Batch 4:  Loss:     0.7814 Validation Accuracy: 0.601400\n",
      "Epoch 24, CIFAR-10 Batch 5:  Loss:     0.7478 Validation Accuracy: 0.589400\n",
      "Epoch 25, CIFAR-10 Batch 1:  Loss:     0.8056 Validation Accuracy: 0.584400\n",
      "Epoch 25, CIFAR-10 Batch 2:  Loss:     0.8019 Validation Accuracy: 0.601200\n",
      "Epoch 25, CIFAR-10 Batch 3:  Loss:     0.7827 Validation Accuracy: 0.595000\n",
      "Epoch 25, CIFAR-10 Batch 4:  Loss:     0.7796 Validation Accuracy: 0.596600\n",
      "Epoch 25, CIFAR-10 Batch 5:  Loss:     0.7205 Validation Accuracy: 0.599600\n",
      "Epoch 26, CIFAR-10 Batch 1:  Loss:     0.7500 Validation Accuracy: 0.601400\n",
      "Epoch 26, CIFAR-10 Batch 2:  Loss:     0.7780 Validation Accuracy: 0.603000\n",
      "Epoch 26, CIFAR-10 Batch 3:  Loss:     0.7201 Validation Accuracy: 0.606600\n",
      "Epoch 26, CIFAR-10 Batch 4:  Loss:     0.7415 Validation Accuracy: 0.591200\n",
      "Epoch 26, CIFAR-10 Batch 5:  Loss:     0.6795 Validation Accuracy: 0.607600\n",
      "Epoch 27, CIFAR-10 Batch 1:  Loss:     0.7296 Validation Accuracy: 0.602600\n",
      "Epoch 27, CIFAR-10 Batch 2:  Loss:     0.7462 Validation Accuracy: 0.613000\n",
      "Epoch 27, CIFAR-10 Batch 3:  Loss:     0.7151 Validation Accuracy: 0.611400\n",
      "Epoch 27, CIFAR-10 Batch 4:  Loss:     0.7022 Validation Accuracy: 0.607200\n",
      "Epoch 27, CIFAR-10 Batch 5:  Loss:     0.6447 Validation Accuracy: 0.611200\n",
      "Epoch 28, CIFAR-10 Batch 1:  Loss:     0.6867 Validation Accuracy: 0.604200\n",
      "Epoch 28, CIFAR-10 Batch 2:  Loss:     0.7072 Validation Accuracy: 0.609600\n",
      "Epoch 28, CIFAR-10 Batch 3:  Loss:     0.6752 Validation Accuracy: 0.605600\n",
      "Epoch 28, CIFAR-10 Batch 4:  Loss:     0.6679 Validation Accuracy: 0.608600\n",
      "Epoch 28, CIFAR-10 Batch 5:  Loss:     0.6200 Validation Accuracy: 0.614200\n",
      "Epoch 29, CIFAR-10 Batch 1:  Loss:     0.6454 Validation Accuracy: 0.615400\n",
      "Epoch 29, CIFAR-10 Batch 2:  Loss:     0.6645 Validation Accuracy: 0.620800\n",
      "Epoch 29, CIFAR-10 Batch 3:  Loss:     0.6280 Validation Accuracy: 0.623400\n",
      "Epoch 29, CIFAR-10 Batch 4:  Loss:     0.6272 Validation Accuracy: 0.610800\n",
      "Epoch 29, CIFAR-10 Batch 5:  Loss:     0.5906 Validation Accuracy: 0.617800\n",
      "Epoch 30, CIFAR-10 Batch 1:  Loss:     0.6205 Validation Accuracy: 0.617800\n",
      "Epoch 30, CIFAR-10 Batch 2:  Loss:     0.6491 Validation Accuracy: 0.620600\n",
      "Epoch 30, CIFAR-10 Batch 3:  Loss:     0.6177 Validation Accuracy: 0.619800\n",
      "Epoch 30, CIFAR-10 Batch 4:  Loss:     0.6069 Validation Accuracy: 0.624200\n",
      "Epoch 30, CIFAR-10 Batch 5:  Loss:     0.5470 Validation Accuracy: 0.623600\n",
      "Epoch 31, CIFAR-10 Batch 1:  Loss:     0.5718 Validation Accuracy: 0.629400\n",
      "Epoch 31, CIFAR-10 Batch 2:  Loss:     0.5986 Validation Accuracy: 0.630200\n",
      "Epoch 31, CIFAR-10 Batch 3:  Loss:     0.5651 Validation Accuracy: 0.630600\n",
      "Epoch 31, CIFAR-10 Batch 4:  Loss:     0.5863 Validation Accuracy: 0.623200\n",
      "Epoch 31, CIFAR-10 Batch 5:  Loss:     0.5336 Validation Accuracy: 0.631200\n",
      "Epoch 32, CIFAR-10 Batch 1:  Loss:     0.5634 Validation Accuracy: 0.632800\n",
      "Epoch 32, CIFAR-10 Batch 2:  Loss:     0.5794 Validation Accuracy: 0.628200\n",
      "Epoch 32, CIFAR-10 Batch 3:  Loss:     0.5426 Validation Accuracy: 0.633000\n",
      "Epoch 32, CIFAR-10 Batch 4:  Loss:     0.5274 Validation Accuracy: 0.623600\n",
      "Epoch 32, CIFAR-10 Batch 5:  Loss:     0.4987 Validation Accuracy: 0.625600\n",
      "Epoch 33, CIFAR-10 Batch 1:  Loss:     0.5218 Validation Accuracy: 0.632000\n",
      "Epoch 33, CIFAR-10 Batch 2:  Loss:     0.5441 Validation Accuracy: 0.628400\n",
      "Epoch 33, CIFAR-10 Batch 3:  Loss:     0.5316 Validation Accuracy: 0.634000\n",
      "Epoch 33, CIFAR-10 Batch 4:  Loss:     0.5245 Validation Accuracy: 0.623400\n",
      "Epoch 33, CIFAR-10 Batch 5:  Loss:     0.4760 Validation Accuracy: 0.637000\n",
      "Epoch 34, CIFAR-10 Batch 1:  Loss:     0.4964 Validation Accuracy: 0.631200\n",
      "Epoch 34, CIFAR-10 Batch 2:  Loss:     0.5254 Validation Accuracy: 0.642600\n",
      "Epoch 34, CIFAR-10 Batch 3:  Loss:     0.4801 Validation Accuracy: 0.639600\n",
      "Epoch 34, CIFAR-10 Batch 4:  Loss:     0.4886 Validation Accuracy: 0.633800\n",
      "Epoch 34, CIFAR-10 Batch 5:  Loss:     0.4553 Validation Accuracy: 0.640200\n",
      "Epoch 35, CIFAR-10 Batch 1:  Loss:     0.4752 Validation Accuracy: 0.638000\n",
      "Epoch 35, CIFAR-10 Batch 2:  Loss:     0.4933 Validation Accuracy: 0.642200\n",
      "Epoch 35, CIFAR-10 Batch 3:  Loss:     0.4675 Validation Accuracy: 0.634000\n",
      "Epoch 35, CIFAR-10 Batch 4:  Loss:     0.4679 Validation Accuracy: 0.632400\n",
      "Epoch 35, CIFAR-10 Batch 5:  Loss:     0.4247 Validation Accuracy: 0.640200\n",
      "Epoch 36, CIFAR-10 Batch 1:  Loss:     0.4475 Validation Accuracy: 0.643200\n",
      "Epoch 36, CIFAR-10 Batch 2:  Loss:     0.4580 Validation Accuracy: 0.643600\n",
      "Epoch 36, CIFAR-10 Batch 3:  Loss:     0.4291 Validation Accuracy: 0.647000\n",
      "Epoch 36, CIFAR-10 Batch 4:  Loss:     0.4429 Validation Accuracy: 0.631600\n",
      "Epoch 36, CIFAR-10 Batch 5:  Loss:     0.4328 Validation Accuracy: 0.639800\n",
      "Epoch 37, CIFAR-10 Batch 1:  Loss:     0.4465 Validation Accuracy: 0.637000\n",
      "Epoch 37, CIFAR-10 Batch 2:  Loss:     0.4346 Validation Accuracy: 0.648800\n",
      "Epoch 37, CIFAR-10 Batch 3:  Loss:     0.3998 Validation Accuracy: 0.650200\n",
      "Epoch 37, CIFAR-10 Batch 4:  Loss:     0.4194 Validation Accuracy: 0.642600\n",
      "Epoch 37, CIFAR-10 Batch 5:  Loss:     0.3890 Validation Accuracy: 0.643000\n",
      "Epoch 38, CIFAR-10 Batch 1:  Loss:     0.4457 Validation Accuracy: 0.619800\n",
      "Epoch 38, CIFAR-10 Batch 2:  Loss:     0.4769 Validation Accuracy: 0.618800\n",
      "Epoch 38, CIFAR-10 Batch 3:  Loss:     0.4816 Validation Accuracy: 0.619000\n",
      "Epoch 38, CIFAR-10 Batch 4:  Loss:     0.4401 Validation Accuracy: 0.630000\n",
      "Epoch 38, CIFAR-10 Batch 5:  Loss:     0.4210 Validation Accuracy: 0.628800\n",
      "Epoch 39, CIFAR-10 Batch 1:  Loss:     0.4141 Validation Accuracy: 0.642800\n",
      "Epoch 39, CIFAR-10 Batch 2:  Loss:     0.4150 Validation Accuracy: 0.648600\n",
      "Epoch 39, CIFAR-10 Batch 3:  Loss:     0.3766 Validation Accuracy: 0.650600\n",
      "Epoch 39, CIFAR-10 Batch 4:  Loss:     0.3752 Validation Accuracy: 0.638400\n",
      "Epoch 39, CIFAR-10 Batch 5:  Loss:     0.3464 Validation Accuracy: 0.645400\n",
      "Epoch 40, CIFAR-10 Batch 1:  Loss:     0.3739 Validation Accuracy: 0.648200\n",
      "Epoch 40, CIFAR-10 Batch 2:  Loss:     0.3856 Validation Accuracy: 0.641000\n",
      "Epoch 40, CIFAR-10 Batch 3:  Loss:     0.3671 Validation Accuracy: 0.643200\n",
      "Epoch 40, CIFAR-10 Batch 4:  Loss:     0.3592 Validation Accuracy: 0.641800\n",
      "Epoch 40, CIFAR-10 Batch 5:  Loss:     0.3412 Validation Accuracy: 0.649600\n",
      "Epoch 41, CIFAR-10 Batch 1:  Loss:     0.3532 Validation Accuracy: 0.644800\n",
      "Epoch 41, CIFAR-10 Batch 2:  Loss:     0.3539 Validation Accuracy: 0.656600\n",
      "Epoch 41, CIFAR-10 Batch 3:  Loss:     0.3390 Validation Accuracy: 0.649800\n",
      "Epoch 41, CIFAR-10 Batch 4:  Loss:     0.3353 Validation Accuracy: 0.648600\n",
      "Epoch 41, CIFAR-10 Batch 5:  Loss:     0.3128 Validation Accuracy: 0.647200\n",
      "Epoch 42, CIFAR-10 Batch 1:  Loss:     0.3417 Validation Accuracy: 0.648800\n",
      "Epoch 42, CIFAR-10 Batch 2:  Loss:     0.3382 Validation Accuracy: 0.644800\n",
      "Epoch 42, CIFAR-10 Batch 3:  Loss:     0.3409 Validation Accuracy: 0.651600\n",
      "Epoch 42, CIFAR-10 Batch 4:  Loss:     0.3328 Validation Accuracy: 0.641000\n",
      "Epoch 42, CIFAR-10 Batch 5:  Loss:     0.3213 Validation Accuracy: 0.641800\n",
      "Epoch 43, CIFAR-10 Batch 1:  Loss:     0.3516 Validation Accuracy: 0.637800\n",
      "Epoch 43, CIFAR-10 Batch 2:  Loss:     0.3375 Validation Accuracy: 0.650600\n",
      "Epoch 43, CIFAR-10 Batch 3:  Loss:     0.3180 Validation Accuracy: 0.657200\n",
      "Epoch 43, CIFAR-10 Batch 4:  Loss:     0.3041 Validation Accuracy: 0.658400\n",
      "Epoch 43, CIFAR-10 Batch 5:  Loss:     0.2736 Validation Accuracy: 0.655200\n",
      "Epoch 44, CIFAR-10 Batch 1:  Loss:     0.3420 Validation Accuracy: 0.625200\n",
      "Epoch 44, CIFAR-10 Batch 2:  Loss:     0.3756 Validation Accuracy: 0.625400\n",
      "Epoch 44, CIFAR-10 Batch 3:  Loss:     0.3718 Validation Accuracy: 0.622800\n",
      "Epoch 44, CIFAR-10 Batch 4:  Loss:     0.3574 Validation Accuracy: 0.630400\n",
      "Epoch 44, CIFAR-10 Batch 5:  Loss:     0.3233 Validation Accuracy: 0.640800\n",
      "Epoch 45, CIFAR-10 Batch 1:  Loss:     0.3375 Validation Accuracy: 0.651400\n",
      "Epoch 45, CIFAR-10 Batch 2:  Loss:     0.3274 Validation Accuracy: 0.656800\n",
      "Epoch 45, CIFAR-10 Batch 3:  Loss:     0.2901 Validation Accuracy: 0.663600\n",
      "Epoch 45, CIFAR-10 Batch 4:  Loss:     0.2854 Validation Accuracy: 0.648200\n",
      "Epoch 45, CIFAR-10 Batch 5:  Loss:     0.2827 Validation Accuracy: 0.654400\n",
      "Epoch 46, CIFAR-10 Batch 1:  Loss:     0.2824 Validation Accuracy: 0.654600\n",
      "Epoch 46, CIFAR-10 Batch 2:  Loss:     0.3044 Validation Accuracy: 0.643600\n",
      "Epoch 46, CIFAR-10 Batch 3:  Loss:     0.2945 Validation Accuracy: 0.648600\n",
      "Epoch 46, CIFAR-10 Batch 4:  Loss:     0.2665 Validation Accuracy: 0.652000\n",
      "Epoch 46, CIFAR-10 Batch 5:  Loss:     0.2553 Validation Accuracy: 0.656800\n",
      "Epoch 47, CIFAR-10 Batch 1:  Loss:     0.2584 Validation Accuracy: 0.663200\n",
      "Epoch 47, CIFAR-10 Batch 2:  Loss:     0.2731 Validation Accuracy: 0.669600\n",
      "Epoch 47, CIFAR-10 Batch 3:  Loss:     0.2543 Validation Accuracy: 0.667000\n",
      "Epoch 47, CIFAR-10 Batch 4:  Loss:     0.2273 Validation Accuracy: 0.665200\n",
      "Epoch 47, CIFAR-10 Batch 5:  Loss:     0.2155 Validation Accuracy: 0.658600\n",
      "Epoch 48, CIFAR-10 Batch 1:  Loss:     0.2242 Validation Accuracy: 0.655200\n",
      "Epoch 48, CIFAR-10 Batch 2:  Loss:     0.2495 Validation Accuracy: 0.658800\n",
      "Epoch 48, CIFAR-10 Batch 3:  Loss:     0.2549 Validation Accuracy: 0.655200\n",
      "Epoch 48, CIFAR-10 Batch 4:  Loss:     0.2262 Validation Accuracy: 0.668200\n",
      "Epoch 48, CIFAR-10 Batch 5:  Loss:     0.2151 Validation Accuracy: 0.658200\n",
      "Epoch 49, CIFAR-10 Batch 1:  Loss:     0.2270 Validation Accuracy: 0.662400\n",
      "Epoch 49, CIFAR-10 Batch 2:  Loss:     0.2343 Validation Accuracy: 0.666400\n",
      "Epoch 49, CIFAR-10 Batch 3:  Loss:     0.2275 Validation Accuracy: 0.672000\n",
      "Epoch 49, CIFAR-10 Batch 4:  Loss:     0.2068 Validation Accuracy: 0.668800\n",
      "Epoch 49, CIFAR-10 Batch 5:  Loss:     0.1973 Validation Accuracy: 0.661000\n",
      "Epoch 50, CIFAR-10 Batch 1:  Loss:     0.2214 Validation Accuracy: 0.646200\n",
      "Epoch 50, CIFAR-10 Batch 2:  Loss:     0.2511 Validation Accuracy: 0.645000\n",
      "Epoch 50, CIFAR-10 Batch 3:  Loss:     0.2797 Validation Accuracy: 0.628000\n",
      "Epoch 50, CIFAR-10 Batch 4:  Loss:     0.2405 Validation Accuracy: 0.641200\n",
      "Epoch 50, CIFAR-10 Batch 5:  Loss:     0.2482 Validation Accuracy: 0.644800\n",
      "Epoch 51, CIFAR-10 Batch 1:  Loss:     0.2330 Validation Accuracy: 0.655000\n",
      "Epoch 51, CIFAR-10 Batch 2:  Loss:     0.2423 Validation Accuracy: 0.660200\n",
      "Epoch 51, CIFAR-10 Batch 3:  Loss:     0.2188 Validation Accuracy: 0.664800\n",
      "Epoch 51, CIFAR-10 Batch 4:  Loss:     0.2019 Validation Accuracy: 0.664800\n",
      "Epoch 51, CIFAR-10 Batch 5:  Loss:     0.1822 Validation Accuracy: 0.667400\n",
      "Epoch 52, CIFAR-10 Batch 1:  Loss:     0.1865 Validation Accuracy: 0.655600\n",
      "Epoch 52, CIFAR-10 Batch 2:  Loss:     0.1986 Validation Accuracy: 0.661200\n",
      "Epoch 52, CIFAR-10 Batch 3:  Loss:     0.1959 Validation Accuracy: 0.675600\n",
      "Epoch 52, CIFAR-10 Batch 4:  Loss:     0.1715 Validation Accuracy: 0.670200\n",
      "Epoch 52, CIFAR-10 Batch 5:  Loss:     0.1691 Validation Accuracy: 0.665000\n",
      "Epoch 53, CIFAR-10 Batch 1:  Loss:     0.1792 Validation Accuracy: 0.654800\n",
      "Epoch 53, CIFAR-10 Batch 2:  Loss:     0.1834 Validation Accuracy: 0.664600\n",
      "Epoch 53, CIFAR-10 Batch 3:  Loss:     0.1816 Validation Accuracy: 0.668400\n",
      "Epoch 53, CIFAR-10 Batch 4:  Loss:     0.1561 Validation Accuracy: 0.673200\n",
      "Epoch 53, CIFAR-10 Batch 5:  Loss:     0.1611 Validation Accuracy: 0.666200\n",
      "Epoch 54, CIFAR-10 Batch 1:  Loss:     0.1584 Validation Accuracy: 0.663200\n",
      "Epoch 54, CIFAR-10 Batch 2:  Loss:     0.1630 Validation Accuracy: 0.671400\n",
      "Epoch 54, CIFAR-10 Batch 3:  Loss:     0.1609 Validation Accuracy: 0.676200\n",
      "Epoch 54, CIFAR-10 Batch 4:  Loss:     0.1478 Validation Accuracy: 0.667800\n",
      "Epoch 54, CIFAR-10 Batch 5:  Loss:     0.1461 Validation Accuracy: 0.665800\n",
      "Epoch 55, CIFAR-10 Batch 1:  Loss:     0.1525 Validation Accuracy: 0.658800\n",
      "Epoch 55, CIFAR-10 Batch 2:  Loss:     0.1576 Validation Accuracy: 0.667800\n",
      "Epoch 55, CIFAR-10 Batch 3:  Loss:     0.1637 Validation Accuracy: 0.666800\n",
      "Epoch 55, CIFAR-10 Batch 4:  Loss:     0.1453 Validation Accuracy: 0.670400\n",
      "Epoch 55, CIFAR-10 Batch 5:  Loss:     0.1439 Validation Accuracy: 0.662400\n",
      "Epoch 56, CIFAR-10 Batch 1:  Loss:     0.1464 Validation Accuracy: 0.659800\n",
      "Epoch 56, CIFAR-10 Batch 2:  Loss:     0.1549 Validation Accuracy: 0.673600\n",
      "Epoch 56, CIFAR-10 Batch 3:  Loss:     0.1481 Validation Accuracy: 0.670000\n",
      "Epoch 56, CIFAR-10 Batch 4:  Loss:     0.1335 Validation Accuracy: 0.673600\n",
      "Epoch 56, CIFAR-10 Batch 5:  Loss:     0.1488 Validation Accuracy: 0.667200\n",
      "Epoch 57, CIFAR-10 Batch 1:  Loss:     0.1413 Validation Accuracy: 0.655400\n",
      "Epoch 57, CIFAR-10 Batch 2:  Loss:     0.1511 Validation Accuracy: 0.666600\n",
      "Epoch 57, CIFAR-10 Batch 3:  Loss:     0.1566 Validation Accuracy: 0.659000\n",
      "Epoch 57, CIFAR-10 Batch 4:  Loss:     0.1397 Validation Accuracy: 0.645400\n",
      "Epoch 57, CIFAR-10 Batch 5:  Loss:     0.1712 Validation Accuracy: 0.651200\n",
      "Epoch 58, CIFAR-10 Batch 1:  Loss:     0.1512 Validation Accuracy: 0.655600\n",
      "Epoch 58, CIFAR-10 Batch 2:  Loss:     0.1596 Validation Accuracy: 0.662600\n",
      "Epoch 58, CIFAR-10 Batch 3:  Loss:     0.1514 Validation Accuracy: 0.665000\n",
      "Epoch 58, CIFAR-10 Batch 4:  Loss:     0.1543 Validation Accuracy: 0.643400\n",
      "Epoch 58, CIFAR-10 Batch 5:  Loss:     0.1572 Validation Accuracy: 0.651200\n",
      "Epoch 59, CIFAR-10 Batch 1:  Loss:     0.1557 Validation Accuracy: 0.655800\n",
      "Epoch 59, CIFAR-10 Batch 2:  Loss:     0.1845 Validation Accuracy: 0.651200\n",
      "Epoch 59, CIFAR-10 Batch 3:  Loss:     0.1905 Validation Accuracy: 0.644000\n",
      "Epoch 59, CIFAR-10 Batch 4:  Loss:     0.1450 Validation Accuracy: 0.654000\n",
      "Epoch 59, CIFAR-10 Batch 5:  Loss:     0.1382 Validation Accuracy: 0.669200\n",
      "Epoch 60, CIFAR-10 Batch 1:  Loss:     0.1460 Validation Accuracy: 0.667600\n",
      "Epoch 60, CIFAR-10 Batch 2:  Loss:     0.1652 Validation Accuracy: 0.654200\n",
      "Epoch 60, CIFAR-10 Batch 3:  Loss:     0.1705 Validation Accuracy: 0.657800\n",
      "Epoch 60, CIFAR-10 Batch 4:  Loss:     0.1502 Validation Accuracy: 0.652800\n",
      "Epoch 60, CIFAR-10 Batch 5:  Loss:     0.1603 Validation Accuracy: 0.639800\n",
      "Epoch 61, CIFAR-10 Batch 1:  Loss:     0.1721 Validation Accuracy: 0.651400\n",
      "Epoch 61, CIFAR-10 Batch 2:  Loss:     0.1761 Validation Accuracy: 0.656600\n",
      "Epoch 61, CIFAR-10 Batch 3:  Loss:     0.1368 Validation Accuracy: 0.678200\n",
      "Epoch 61, CIFAR-10 Batch 4:  Loss:     0.1232 Validation Accuracy: 0.663200\n",
      "Epoch 61, CIFAR-10 Batch 5:  Loss:     0.1252 Validation Accuracy: 0.658800\n",
      "Epoch 62, CIFAR-10 Batch 1:  Loss:     0.1283 Validation Accuracy: 0.656000\n",
      "Epoch 62, CIFAR-10 Batch 2:  Loss:     0.1331 Validation Accuracy: 0.662800\n",
      "Epoch 62, CIFAR-10 Batch 3:  Loss:     0.1242 Validation Accuracy: 0.673800\n",
      "Epoch 62, CIFAR-10 Batch 4:  Loss:     0.1098 Validation Accuracy: 0.665600\n",
      "Epoch 62, CIFAR-10 Batch 5:  Loss:     0.0995 Validation Accuracy: 0.665400\n",
      "Epoch 63, CIFAR-10 Batch 1:  Loss:     0.1155 Validation Accuracy: 0.667800\n",
      "Epoch 63, CIFAR-10 Batch 2:  Loss:     0.1097 Validation Accuracy: 0.675000\n",
      "Epoch 63, CIFAR-10 Batch 3:  Loss:     0.1229 Validation Accuracy: 0.669400\n",
      "Epoch 63, CIFAR-10 Batch 4:  Loss:     0.1137 Validation Accuracy: 0.655600\n",
      "Epoch 63, CIFAR-10 Batch 5:  Loss:     0.1342 Validation Accuracy: 0.648000\n",
      "Epoch 64, CIFAR-10 Batch 1:  Loss:     0.1324 Validation Accuracy: 0.655000\n",
      "Epoch 64, CIFAR-10 Batch 2:  Loss:     0.1377 Validation Accuracy: 0.658800\n",
      "Epoch 64, CIFAR-10 Batch 3:  Loss:     0.1432 Validation Accuracy: 0.654800\n",
      "Epoch 64, CIFAR-10 Batch 4:  Loss:     0.1411 Validation Accuracy: 0.640200\n",
      "Epoch 64, CIFAR-10 Batch 5:  Loss:     0.1209 Validation Accuracy: 0.661400\n",
      "Epoch 65, CIFAR-10 Batch 1:  Loss:     0.1136 Validation Accuracy: 0.659400\n",
      "Epoch 65, CIFAR-10 Batch 2:  Loss:     0.1279 Validation Accuracy: 0.655400\n",
      "Epoch 65, CIFAR-10 Batch 3:  Loss:     0.1633 Validation Accuracy: 0.644800\n",
      "Epoch 65, CIFAR-10 Batch 4:  Loss:     0.1384 Validation Accuracy: 0.639600\n",
      "Epoch 65, CIFAR-10 Batch 5:  Loss:     0.1284 Validation Accuracy: 0.665600\n",
      "Epoch 66, CIFAR-10 Batch 1:  Loss:     0.1204 Validation Accuracy: 0.667800\n",
      "Epoch 66, CIFAR-10 Batch 2:  Loss:     0.1156 Validation Accuracy: 0.666000\n",
      "Epoch 66, CIFAR-10 Batch 3:  Loss:     0.1132 Validation Accuracy: 0.669000\n",
      "Epoch 66, CIFAR-10 Batch 4:  Loss:     0.0958 Validation Accuracy: 0.674800\n",
      "Epoch 66, CIFAR-10 Batch 5:  Loss:     0.0943 Validation Accuracy: 0.671000\n",
      "Epoch 67, CIFAR-10 Batch 1:  Loss:     0.1010 Validation Accuracy: 0.669600\n",
      "Epoch 67, CIFAR-10 Batch 2:  Loss:     0.0929 Validation Accuracy: 0.659800\n",
      "Epoch 67, CIFAR-10 Batch 3:  Loss:     0.0983 Validation Accuracy: 0.676800\n",
      "Epoch 67, CIFAR-10 Batch 4:  Loss:     0.0790 Validation Accuracy: 0.675800\n",
      "Epoch 67, CIFAR-10 Batch 5:  Loss:     0.0721 Validation Accuracy: 0.681400\n",
      "Epoch 68, CIFAR-10 Batch 1:  Loss:     0.0769 Validation Accuracy: 0.678800\n",
      "Epoch 68, CIFAR-10 Batch 2:  Loss:     0.0773 Validation Accuracy: 0.670600\n",
      "Epoch 68, CIFAR-10 Batch 3:  Loss:     0.0842 Validation Accuracy: 0.681600\n",
      "Epoch 68, CIFAR-10 Batch 4:  Loss:     0.0783 Validation Accuracy: 0.675200\n",
      "Epoch 68, CIFAR-10 Batch 5:  Loss:     0.0770 Validation Accuracy: 0.666600\n",
      "Epoch 69, CIFAR-10 Batch 1:  Loss:     0.0915 Validation Accuracy: 0.667600\n",
      "Epoch 69, CIFAR-10 Batch 2:  Loss:     0.0818 Validation Accuracy: 0.663800\n",
      "Epoch 69, CIFAR-10 Batch 3:  Loss:     0.0891 Validation Accuracy: 0.673600\n",
      "Epoch 69, CIFAR-10 Batch 4:  Loss:     0.0728 Validation Accuracy: 0.671400\n",
      "Epoch 69, CIFAR-10 Batch 5:  Loss:     0.0763 Validation Accuracy: 0.672400\n",
      "Epoch 70, CIFAR-10 Batch 1:  Loss:     0.0662 Validation Accuracy: 0.677200\n",
      "Epoch 70, CIFAR-10 Batch 2:  Loss:     0.0692 Validation Accuracy: 0.670600\n",
      "Epoch 70, CIFAR-10 Batch 3:  Loss:     0.0743 Validation Accuracy: 0.677200\n",
      "Epoch 70, CIFAR-10 Batch 4:  Loss:     0.0676 Validation Accuracy: 0.672600\n",
      "Epoch 70, CIFAR-10 Batch 5:  Loss:     0.0693 Validation Accuracy: 0.664000\n",
      "Epoch 71, CIFAR-10 Batch 1:  Loss:     0.0834 Validation Accuracy: 0.674200\n",
      "Epoch 71, CIFAR-10 Batch 2:  Loss:     0.0791 Validation Accuracy: 0.661000\n",
      "Epoch 71, CIFAR-10 Batch 3:  Loss:     0.0975 Validation Accuracy: 0.670800\n",
      "Epoch 71, CIFAR-10 Batch 4:  Loss:     0.0676 Validation Accuracy: 0.673200\n",
      "Epoch 71, CIFAR-10 Batch 5:  Loss:     0.0661 Validation Accuracy: 0.676200\n",
      "Epoch 72, CIFAR-10 Batch 1:  Loss:     0.0599 Validation Accuracy: 0.680200\n",
      "Epoch 72, CIFAR-10 Batch 2:  Loss:     0.0591 Validation Accuracy: 0.682200\n",
      "Epoch 72, CIFAR-10 Batch 3:  Loss:     0.0645 Validation Accuracy: 0.680200\n",
      "Epoch 72, CIFAR-10 Batch 4:  Loss:     0.0551 Validation Accuracy: 0.682000\n",
      "Epoch 72, CIFAR-10 Batch 5:  Loss:     0.0532 Validation Accuracy: 0.675400\n",
      "Epoch 73, CIFAR-10 Batch 1:  Loss:     0.0638 Validation Accuracy: 0.676000\n",
      "Epoch 73, CIFAR-10 Batch 2:  Loss:     0.0558 Validation Accuracy: 0.671800\n",
      "Epoch 73, CIFAR-10 Batch 3:  Loss:     0.0713 Validation Accuracy: 0.682600\n",
      "Epoch 73, CIFAR-10 Batch 4:  Loss:     0.0580 Validation Accuracy: 0.676600\n",
      "Epoch 73, CIFAR-10 Batch 5:  Loss:     0.0518 Validation Accuracy: 0.679800\n",
      "Epoch 74, CIFAR-10 Batch 1:  Loss:     0.0582 Validation Accuracy: 0.679800\n",
      "Epoch 74, CIFAR-10 Batch 2:  Loss:     0.0526 Validation Accuracy: 0.686200\n",
      "Epoch 74, CIFAR-10 Batch 3:  Loss:     0.0582 Validation Accuracy: 0.685600\n",
      "Epoch 74, CIFAR-10 Batch 4:  Loss:     0.0514 Validation Accuracy: 0.688200\n",
      "Epoch 74, CIFAR-10 Batch 5:  Loss:     0.0478 Validation Accuracy: 0.680400\n",
      "Epoch 75, CIFAR-10 Batch 1:  Loss:     0.0554 Validation Accuracy: 0.674400\n",
      "Epoch 75, CIFAR-10 Batch 2:  Loss:     0.0597 Validation Accuracy: 0.667400\n",
      "Epoch 75, CIFAR-10 Batch 3:  Loss:     0.0614 Validation Accuracy: 0.683600\n",
      "Epoch 75, CIFAR-10 Batch 4:  Loss:     0.0483 Validation Accuracy: 0.680200\n",
      "Epoch 75, CIFAR-10 Batch 5:  Loss:     0.0413 Validation Accuracy: 0.687800\n",
      "Epoch 76, CIFAR-10 Batch 1:  Loss:     0.0457 Validation Accuracy: 0.682600\n",
      "Epoch 76, CIFAR-10 Batch 2:  Loss:     0.0551 Validation Accuracy: 0.677600\n",
      "Epoch 76, CIFAR-10 Batch 3:  Loss:     0.0504 Validation Accuracy: 0.670400\n",
      "Epoch 76, CIFAR-10 Batch 4:  Loss:     0.0646 Validation Accuracy: 0.664200\n",
      "Epoch 76, CIFAR-10 Batch 5:  Loss:     0.0573 Validation Accuracy: 0.657200\n",
      "Epoch 77, CIFAR-10 Batch 1:  Loss:     0.0741 Validation Accuracy: 0.659600\n",
      "Epoch 77, CIFAR-10 Batch 2:  Loss:     0.0679 Validation Accuracy: 0.659600\n",
      "Epoch 77, CIFAR-10 Batch 3:  Loss:     0.0598 Validation Accuracy: 0.674800\n",
      "Epoch 77, CIFAR-10 Batch 4:  Loss:     0.0507 Validation Accuracy: 0.681200\n",
      "Epoch 77, CIFAR-10 Batch 5:  Loss:     0.0505 Validation Accuracy: 0.669000\n",
      "Epoch 78, CIFAR-10 Batch 1:  Loss:     0.0456 Validation Accuracy: 0.686000\n",
      "Epoch 78, CIFAR-10 Batch 2:  Loss:     0.0501 Validation Accuracy: 0.681200\n",
      "Epoch 78, CIFAR-10 Batch 3:  Loss:     0.0449 Validation Accuracy: 0.673200\n",
      "Epoch 78, CIFAR-10 Batch 4:  Loss:     0.0452 Validation Accuracy: 0.679400\n",
      "Epoch 78, CIFAR-10 Batch 5:  Loss:     0.0379 Validation Accuracy: 0.684400\n",
      "Epoch 79, CIFAR-10 Batch 1:  Loss:     0.0442 Validation Accuracy: 0.683600\n",
      "Epoch 79, CIFAR-10 Batch 2:  Loss:     0.0462 Validation Accuracy: 0.683200\n",
      "Epoch 79, CIFAR-10 Batch 3:  Loss:     0.0401 Validation Accuracy: 0.677000\n",
      "Epoch 79, CIFAR-10 Batch 4:  Loss:     0.0396 Validation Accuracy: 0.692200\n",
      "Epoch 79, CIFAR-10 Batch 5:  Loss:     0.0349 Validation Accuracy: 0.685000\n",
      "Epoch 80, CIFAR-10 Batch 1:  Loss:     0.0397 Validation Accuracy: 0.686000\n",
      "Epoch 80, CIFAR-10 Batch 2:  Loss:     0.0420 Validation Accuracy: 0.679800\n",
      "Epoch 80, CIFAR-10 Batch 3:  Loss:     0.0366 Validation Accuracy: 0.673600\n",
      "Epoch 80, CIFAR-10 Batch 4:  Loss:     0.0405 Validation Accuracy: 0.677000\n",
      "Epoch 80, CIFAR-10 Batch 5:  Loss:     0.0300 Validation Accuracy: 0.676400\n",
      "Epoch 81, CIFAR-10 Batch 1:  Loss:     0.0396 Validation Accuracy: 0.678600\n",
      "Epoch 81, CIFAR-10 Batch 2:  Loss:     0.0369 Validation Accuracy: 0.686400\n",
      "Epoch 81, CIFAR-10 Batch 3:  Loss:     0.0333 Validation Accuracy: 0.680400\n",
      "Epoch 81, CIFAR-10 Batch 4:  Loss:     0.0318 Validation Accuracy: 0.685200\n",
      "Epoch 81, CIFAR-10 Batch 5:  Loss:     0.0290 Validation Accuracy: 0.683200\n",
      "Epoch 82, CIFAR-10 Batch 1:  Loss:     0.0401 Validation Accuracy: 0.679400\n",
      "Epoch 82, CIFAR-10 Batch 2:  Loss:     0.0389 Validation Accuracy: 0.674400\n",
      "Epoch 82, CIFAR-10 Batch 3:  Loss:     0.0352 Validation Accuracy: 0.682600\n",
      "Epoch 82, CIFAR-10 Batch 4:  Loss:     0.0358 Validation Accuracy: 0.675800\n",
      "Epoch 82, CIFAR-10 Batch 5:  Loss:     0.0299 Validation Accuracy: 0.682800\n",
      "Epoch 83, CIFAR-10 Batch 1:  Loss:     0.0316 Validation Accuracy: 0.684400\n",
      "Epoch 83, CIFAR-10 Batch 2:  Loss:     0.0338 Validation Accuracy: 0.684800\n",
      "Epoch 83, CIFAR-10 Batch 3:  Loss:     0.0296 Validation Accuracy: 0.679400\n",
      "Epoch 83, CIFAR-10 Batch 4:  Loss:     0.0282 Validation Accuracy: 0.684600\n",
      "Epoch 83, CIFAR-10 Batch 5:  Loss:     0.0224 Validation Accuracy: 0.680800\n",
      "Epoch 84, CIFAR-10 Batch 1:  Loss:     0.0305 Validation Accuracy: 0.685400\n",
      "Epoch 84, CIFAR-10 Batch 2:  Loss:     0.0324 Validation Accuracy: 0.678000\n",
      "Epoch 84, CIFAR-10 Batch 3:  Loss:     0.0317 Validation Accuracy: 0.673200\n",
      "Epoch 84, CIFAR-10 Batch 4:  Loss:     0.0305 Validation Accuracy: 0.678000\n",
      "Epoch 84, CIFAR-10 Batch 5:  Loss:     0.0243 Validation Accuracy: 0.680400\n",
      "Epoch 85, CIFAR-10 Batch 1:  Loss:     0.0304 Validation Accuracy: 0.682400\n",
      "Epoch 85, CIFAR-10 Batch 2:  Loss:     0.0382 Validation Accuracy: 0.675600\n",
      "Epoch 85, CIFAR-10 Batch 3:  Loss:     0.0368 Validation Accuracy: 0.660200\n",
      "Epoch 85, CIFAR-10 Batch 4:  Loss:     0.0315 Validation Accuracy: 0.680600\n",
      "Epoch 85, CIFAR-10 Batch 5:  Loss:     0.0309 Validation Accuracy: 0.668400\n",
      "Epoch 86, CIFAR-10 Batch 1:  Loss:     0.0401 Validation Accuracy: 0.679400\n",
      "Epoch 86, CIFAR-10 Batch 2:  Loss:     0.0491 Validation Accuracy: 0.659200\n",
      "Epoch 86, CIFAR-10 Batch 3:  Loss:     0.0563 Validation Accuracy: 0.661000\n",
      "Epoch 86, CIFAR-10 Batch 4:  Loss:     0.0451 Validation Accuracy: 0.668000\n",
      "Epoch 86, CIFAR-10 Batch 5:  Loss:     0.0334 Validation Accuracy: 0.671200\n",
      "Epoch 87, CIFAR-10 Batch 1:  Loss:     0.0332 Validation Accuracy: 0.671600\n",
      "Epoch 87, CIFAR-10 Batch 2:  Loss:     0.0407 Validation Accuracy: 0.674800\n",
      "Epoch 87, CIFAR-10 Batch 3:  Loss:     0.0412 Validation Accuracy: 0.656800\n",
      "Epoch 87, CIFAR-10 Batch 4:  Loss:     0.0377 Validation Accuracy: 0.671400\n",
      "Epoch 87, CIFAR-10 Batch 5:  Loss:     0.0414 Validation Accuracy: 0.661200\n",
      "Epoch 88, CIFAR-10 Batch 1:  Loss:     0.0507 Validation Accuracy: 0.663400\n",
      "Epoch 88, CIFAR-10 Batch 2:  Loss:     0.0502 Validation Accuracy: 0.662400\n",
      "Epoch 88, CIFAR-10 Batch 3:  Loss:     0.0382 Validation Accuracy: 0.673400\n",
      "Epoch 88, CIFAR-10 Batch 4:  Loss:     0.0311 Validation Accuracy: 0.685200\n",
      "Epoch 88, CIFAR-10 Batch 5:  Loss:     0.0311 Validation Accuracy: 0.678200\n",
      "Epoch 89, CIFAR-10 Batch 1:  Loss:     0.0354 Validation Accuracy: 0.672000\n",
      "Epoch 89, CIFAR-10 Batch 2:  Loss:     0.0344 Validation Accuracy: 0.684000\n",
      "Epoch 89, CIFAR-10 Batch 3:  Loss:     0.0360 Validation Accuracy: 0.664800\n",
      "Epoch 89, CIFAR-10 Batch 4:  Loss:     0.0392 Validation Accuracy: 0.666800\n",
      "Epoch 89, CIFAR-10 Batch 5:  Loss:     0.0394 Validation Accuracy: 0.662600\n",
      "Epoch 90, CIFAR-10 Batch 1:  Loss:     0.0262 Validation Accuracy: 0.681000\n",
      "Epoch 90, CIFAR-10 Batch 2:  Loss:     0.0327 Validation Accuracy: 0.674400\n",
      "Epoch 90, CIFAR-10 Batch 3:  Loss:     0.0392 Validation Accuracy: 0.668400\n",
      "Epoch 90, CIFAR-10 Batch 4:  Loss:     0.0346 Validation Accuracy: 0.672600\n",
      "Epoch 90, CIFAR-10 Batch 5:  Loss:     0.0343 Validation Accuracy: 0.672600\n",
      "Epoch 91, CIFAR-10 Batch 1:  Loss:     0.0376 Validation Accuracy: 0.660000\n",
      "Epoch 91, CIFAR-10 Batch 2:  Loss:     0.0476 Validation Accuracy: 0.669200\n",
      "Epoch 91, CIFAR-10 Batch 3:  Loss:     0.0380 Validation Accuracy: 0.664000\n",
      "Epoch 91, CIFAR-10 Batch 4:  Loss:     0.0330 Validation Accuracy: 0.675600\n",
      "Epoch 91, CIFAR-10 Batch 5:  Loss:     0.0309 Validation Accuracy: 0.673400\n",
      "Epoch 92, CIFAR-10 Batch 1:  Loss:     0.0314 Validation Accuracy: 0.677400\n",
      "Epoch 92, CIFAR-10 Batch 2:  Loss:     0.0436 Validation Accuracy: 0.660600\n",
      "Epoch 92, CIFAR-10 Batch 3:  Loss:     0.0284 Validation Accuracy: 0.685400\n",
      "Epoch 92, CIFAR-10 Batch 4:  Loss:     0.0281 Validation Accuracy: 0.674800\n",
      "Epoch 92, CIFAR-10 Batch 5:  Loss:     0.0264 Validation Accuracy: 0.678800\n",
      "Epoch 93, CIFAR-10 Batch 1:  Loss:     0.0256 Validation Accuracy: 0.675200\n",
      "Epoch 93, CIFAR-10 Batch 2:  Loss:     0.0290 Validation Accuracy: 0.679400\n",
      "Epoch 93, CIFAR-10 Batch 3:  Loss:     0.0249 Validation Accuracy: 0.681600\n",
      "Epoch 93, CIFAR-10 Batch 4:  Loss:     0.0210 Validation Accuracy: 0.678800\n",
      "Epoch 93, CIFAR-10 Batch 5:  Loss:     0.0214 Validation Accuracy: 0.682600\n",
      "Epoch 94, CIFAR-10 Batch 1:  Loss:     0.0234 Validation Accuracy: 0.677000\n",
      "Epoch 94, CIFAR-10 Batch 2:  Loss:     0.0205 Validation Accuracy: 0.678200\n",
      "Epoch 94, CIFAR-10 Batch 3:  Loss:     0.0196 Validation Accuracy: 0.687200\n",
      "Epoch 94, CIFAR-10 Batch 4:  Loss:     0.0195 Validation Accuracy: 0.682200\n",
      "Epoch 94, CIFAR-10 Batch 5:  Loss:     0.0239 Validation Accuracy: 0.676000\n",
      "Epoch 95, CIFAR-10 Batch 1:  Loss:     0.0175 Validation Accuracy: 0.679600\n",
      "Epoch 95, CIFAR-10 Batch 2:  Loss:     0.0191 Validation Accuracy: 0.687800\n",
      "Epoch 95, CIFAR-10 Batch 3:  Loss:     0.0229 Validation Accuracy: 0.682600\n",
      "Epoch 95, CIFAR-10 Batch 4:  Loss:     0.0159 Validation Accuracy: 0.675400\n",
      "Epoch 95, CIFAR-10 Batch 5:  Loss:     0.0191 Validation Accuracy: 0.682600\n",
      "Epoch 96, CIFAR-10 Batch 1:  Loss:     0.0165 Validation Accuracy: 0.693000\n",
      "Epoch 96, CIFAR-10 Batch 2:  Loss:     0.0145 Validation Accuracy: 0.685200\n",
      "Epoch 96, CIFAR-10 Batch 3:  Loss:     0.0207 Validation Accuracy: 0.675800\n",
      "Epoch 96, CIFAR-10 Batch 4:  Loss:     0.0151 Validation Accuracy: 0.677800\n",
      "Epoch 96, CIFAR-10 Batch 5:  Loss:     0.0163 Validation Accuracy: 0.685400\n",
      "Epoch 97, CIFAR-10 Batch 1:  Loss:     0.0177 Validation Accuracy: 0.686400\n",
      "Epoch 97, CIFAR-10 Batch 2:  Loss:     0.0206 Validation Accuracy: 0.676600\n",
      "Epoch 97, CIFAR-10 Batch 3:  Loss:     0.0262 Validation Accuracy: 0.665200\n",
      "Epoch 97, CIFAR-10 Batch 4:  Loss:     0.0298 Validation Accuracy: 0.671600\n",
      "Epoch 97, CIFAR-10 Batch 5:  Loss:     0.0298 Validation Accuracy: 0.664800\n",
      "Epoch 98, CIFAR-10 Batch 1:  Loss:     0.0423 Validation Accuracy: 0.671000\n",
      "Epoch 98, CIFAR-10 Batch 2:  Loss:     0.0327 Validation Accuracy: 0.657000\n",
      "Epoch 98, CIFAR-10 Batch 3:  Loss:     0.0249 Validation Accuracy: 0.678600\n",
      "Epoch 98, CIFAR-10 Batch 4:  Loss:     0.0169 Validation Accuracy: 0.692600\n",
      "Epoch 98, CIFAR-10 Batch 5:  Loss:     0.0160 Validation Accuracy: 0.679200\n",
      "Epoch 99, CIFAR-10 Batch 1:  Loss:     0.0152 Validation Accuracy: 0.683800\n",
      "Epoch 99, CIFAR-10 Batch 2:  Loss:     0.0155 Validation Accuracy: 0.688200\n",
      "Epoch 99, CIFAR-10 Batch 3:  Loss:     0.0146 Validation Accuracy: 0.695000\n",
      "Epoch 99, CIFAR-10 Batch 4:  Loss:     0.0129 Validation Accuracy: 0.692400\n",
      "Epoch 99, CIFAR-10 Batch 5:  Loss:     0.0112 Validation Accuracy: 0.692200\n",
      "Epoch 100, CIFAR-10 Batch 1:  Loss:     0.0130 Validation Accuracy: 0.688600\n",
      "Epoch 100, CIFAR-10 Batch 2:  Loss:     0.0125 Validation Accuracy: 0.689600\n",
      "Epoch 100, CIFAR-10 Batch 3:  Loss:     0.0145 Validation Accuracy: 0.688400\n",
      "Epoch 100, CIFAR-10 Batch 4:  Loss:     0.0101 Validation Accuracy: 0.689200\n",
      "Epoch 100, CIFAR-10 Batch 5:  Loss:     0.0091 Validation Accuracy: 0.692000\n"
     ]
    }
   ],
   "source": [
    "\"\"\"\n",
    "DON'T MODIFY ANYTHING IN THIS CELL\n",
    "\"\"\"\n",
    "save_model_path = './image_classification'\n",
    "\n",
    "print('Training...')\n",
    "with tf.Session() as sess:\n",
    "    # Initializing the variables\n",
    "    sess.run(tf.global_variables_initializer())\n",
    "    \n",
    "    # Training cycle\n",
    "    for epoch in range(epochs):\n",
    "        # Loop over all batches\n",
    "        n_batches = 5\n",
    "        for batch_i in range(1, n_batches + 1):\n",
    "            for batch_features, batch_labels in helper.load_preprocess_training_batch(batch_i, batch_size):\n",
    "                train_neural_network(sess, optimizer, keep_probability, batch_features, batch_labels)\n",
    "            print('Epoch {:>2}, CIFAR-10 Batch {}:  '.format(epoch + 1, batch_i), end='')\n",
    "            print_stats(sess, batch_features, batch_labels, cost, accuracy)\n",
    "            \n",
    "    # Save Model\n",
    "    saver = tf.train.Saver()\n",
    "    save_path = saver.save(sess, save_model_path)"
   ]
  },
  {
   "cell_type": "markdown",
   "metadata": {
    "deletable": true,
    "editable": true
   },
   "source": [
    "# Checkpoint\n",
    "The model has been saved to disk.\n",
    "## Test Model\n",
    "Test your model against the test dataset.  This will be your final accuracy. You should have an accuracy greater than 50%. If you don't, keep tweaking the model architecture and parameters."
   ]
  },
  {
   "cell_type": "code",
   "execution_count": 12,
   "metadata": {
    "collapsed": false,
    "deletable": true,
    "editable": true
   },
   "outputs": [
    {
     "name": "stdout",
     "output_type": "stream",
     "text": [
      "Testing Accuracy: 0.6830435395240784\n",
      "\n"
     ]
    },
    {
     "data": {
      "image/png": "[encoded data removed]",
      "text/plain": [
       "<matplotlib.figure.Figure at 0x7f071cfd8ef0>"
      ]
     },
     "metadata": {
      "image/png": {
       "height": 319,
       "width": 355
      }
     },
     "output_type": "display_data"
    }
   ],
   "source": [
    "\"\"\"\n",
    "DON'T MODIFY ANYTHING IN THIS CELL\n",
    "\"\"\"\n",
    "%matplotlib inline\n",
    "%config InlineBackend.figure_format = 'retina'\n",
    "\n",
    "import tensorflow as tf\n",
    "import pickle\n",
    "import helper\n",
    "import random\n",
    "\n",
    "# Set batch size if not already set\n",
    "try:\n",
    "    if batch_size:\n",
    "        pass\n",
    "except NameError:\n",
    "    batch_size = 64\n",
    "\n",
    "save_model_path = './image_classification'\n",
    "n_samples = 4\n",
    "top_n_predictions = 3\n",
    "\n",
    "def test_model():\n",
    "    \"\"\"\n",
    "    Test the saved model against the test dataset\n",
    "    \"\"\"\n",
    "\n",
    "    test_features, test_labels = pickle.load(open('preprocess_training.p', mode='rb'))\n",
    "    loaded_graph = tf.Graph()\n",
    "\n",
    "    with tf.Session(graph=loaded_graph) as sess:\n",
    "        # Load model\n",
    "        loader = tf.train.import_meta_graph(save_model_path + '.meta')\n",
    "        loader.restore(sess, save_model_path)\n",
    "\n",
    "        # Get Tensors from loaded model\n",
    "        loaded_x = loaded_graph.get_tensor_by_name('x:0')\n",
    "        loaded_y = loaded_graph.get_tensor_by_name('y:0')\n",
    "        loaded_keep_prob = loaded_graph.get_tensor_by_name('keep_prob:0')\n",
    "        loaded_logits = loaded_graph.get_tensor_by_name('logits:0')\n",
    "        loaded_acc = loaded_graph.get_tensor_by_name('accuracy:0')\n",
    "        \n",
    "        # Get accuracy in batches for memory limitations\n",
    "        test_batch_acc_total = 0\n",
    "        test_batch_count = 0\n",
    "        \n",
    "        for train_feature_batch, train_label_batch in helper.batch_features_labels(test_features, test_labels, batch_size):\n",
    "            test_batch_acc_total += sess.run(\n",
    "                loaded_acc,\n",
    "                feed_dict={loaded_x: train_feature_batch, loaded_y: train_label_batch, loaded_keep_prob: 1.0})\n",
    "            test_batch_count += 1\n",
    "\n",
    "        print('Testing Accuracy: {}\\n'.format(test_batch_acc_total/test_batch_count))\n",
    "\n",
    "        # Print Random Samples\n",
    "        random_test_features, random_test_labels = tuple(zip(*random.sample(list(zip(test_features, test_labels)), n_samples)))\n",
    "        random_test_predictions = sess.run(\n",
    "            tf.nn.top_k(tf.nn.softmax(loaded_logits), top_n_predictions),\n",
    "            feed_dict={loaded_x: random_test_features, loaded_y: random_test_labels, loaded_keep_prob: 1.0})\n",
    "        helper.display_image_predictions(random_test_features, random_test_labels, random_test_predictions)\n",
    "\n",
    "\n",
    "test_model()"
   ]
  },
  {
   "cell_type": "markdown",
   "metadata": {
    "deletable": true,
    "editable": true
   },
   "source": [
    "## Why 50-80% Accuracy?\n",
    "You might be wondering why you can't get an accuracy any higher. First things first, 50% isn't bad for a simple CNN.  Pure guessing would get you 10% accuracy. However, you might notice people are getting scores [well above 80%](http://rodrigob.github.io/are_we_there_yet/build/classification_datasets_results.html#43494641522d3130).  That's because we haven't taught you all there is to know about neural networks. We still need to cover a few more techniques.\n",
    "## Submitting This Project\n",
    "When submitting this project, make sure to run all the cells before saving the notebook.  Save the notebook file as \"dlnd_image_classification.ipynb\" and save it as a HTML file under \"File\" -> \"Download as\".  Include the \"helper.py\" and \"problem_unittests.py\" files in your submission."
   ]
  }
 ],
 "metadata": {
  "kernelspec": {
   "display_name": "Python 3",
   "language": "python",
   "name": "python3"
  },
  "language_info": {
   "codemirror_mode": {
    "name": "ipython",
    "version": 3
   },
   "file_extension": ".py",
   "mimetype": "text/x-python",
   "name": "python",
   "nbconvert_exporter": "python",
   "pygments_lexer": "ipython3",
   "version": "3.5.2"
  },
  "widgets": {
   "state": {},
   "version": "1.1.2"
  }
 },
 "nbformat": 4,
 "nbformat_minor": 0
}
